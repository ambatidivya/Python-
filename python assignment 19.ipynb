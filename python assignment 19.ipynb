{
 "cells": [
  {
   "cell_type": "markdown",
   "id": "7dd4a2aa",
   "metadata": {},
   "source": [
    "#### 1. Make a class called Thing with no contents and print it. Then, create an object called example from this class and also print it. Are the printed values the same or different?"
   ]
  },
  {
   "cell_type": "code",
   "execution_count": 2,
   "id": "edefa9cf",
   "metadata": {},
   "outputs": [],
   "source": [
    "class Thing:\n",
    "    pass"
   ]
  },
  {
   "cell_type": "code",
   "execution_count": 4,
   "id": "77f458c8",
   "metadata": {},
   "outputs": [
    {
     "name": "stdout",
     "output_type": "stream",
     "text": [
      "<class '__main__.Thing'>\n"
     ]
    }
   ],
   "source": [
    "print(Thing)"
   ]
  },
  {
   "cell_type": "code",
   "execution_count": 5,
   "id": "fd0f3231",
   "metadata": {},
   "outputs": [],
   "source": [
    "example = Thing()"
   ]
  },
  {
   "cell_type": "code",
   "execution_count": 6,
   "id": "929b91dc",
   "metadata": {},
   "outputs": [
    {
     "name": "stdout",
     "output_type": "stream",
     "text": [
      "<__main__.Thing object at 0x0000025EFF5331C0>\n"
     ]
    }
   ],
   "source": [
    "print(example)"
   ]
  },
  {
   "cell_type": "markdown",
   "id": "71783320",
   "metadata": {},
   "source": [
    "#### 2. Create a new class called Thing2 and add the value &#39;abc&#39; to the letters class attribute. Letters should be printed"
   ]
  },
  {
   "cell_type": "code",
   "execution_count": 7,
   "id": "3b3d3e23",
   "metadata": {},
   "outputs": [],
   "source": [
    "class Thing2:\n",
    "    letters = \"abc\""
   ]
  },
  {
   "cell_type": "code",
   "execution_count": 9,
   "id": "b283d61f",
   "metadata": {},
   "outputs": [
    {
     "name": "stdout",
     "output_type": "stream",
     "text": [
      "abc\n"
     ]
    }
   ],
   "source": [
    "print(Thing2.letters)"
   ]
  },
  {
   "cell_type": "markdown",
   "id": "d9619235",
   "metadata": {},
   "source": [
    "#### 3. Make yet another class called, of course, Thing3. This time, assign the value &#39;xyz&#39; to an instance (object) attribute called letters. Print letters. Do you need to make an object from the class to do this?"
   ]
  },
  {
   "cell_type": "code",
   "execution_count": 10,
   "id": "0a78b337",
   "metadata": {},
   "outputs": [],
   "source": [
    "class Thing3:\n",
    "    def __init__(self,letter):\n",
    "        self.letter = letter\n",
    "    def letters(self):\n",
    "        print(self.letter)"
   ]
  },
  {
   "cell_type": "code",
   "execution_count": 11,
   "id": "592587a7",
   "metadata": {},
   "outputs": [],
   "source": [
    "x = Thing3(\"xyz\")"
   ]
  },
  {
   "cell_type": "code",
   "execution_count": 12,
   "id": "51388502",
   "metadata": {},
   "outputs": [
    {
     "name": "stdout",
     "output_type": "stream",
     "text": [
      "xyz\n"
     ]
    }
   ],
   "source": [
    "x.letters()"
   ]
  },
  {
   "cell_type": "markdown",
   "id": "ceb90463",
   "metadata": {},
   "source": [
    "#### 4. Create an Element class with the instance attributes name, symbol, and number. Create a class object with the values &#39;Hydrogen,&#39; &#39;H,&#39; and 1."
   ]
  },
  {
   "cell_type": "code",
   "execution_count": 15,
   "id": "2890ea7c",
   "metadata": {},
   "outputs": [],
   "source": [
    "class Element:\n",
    "    def __init__(self,name,symbol,number):\n",
    "        self.name = name\n",
    "        self.symbol = symbol\n",
    "        self.number = number\n",
    "    def desc_element(self):\n",
    "        print(self.name,self.symbol,self.number)\n",
    "    "
   ]
  },
  {
   "cell_type": "code",
   "execution_count": 16,
   "id": "910f809a",
   "metadata": {},
   "outputs": [],
   "source": [
    "obj = Element(\"Hydrogen\", \"H\", 1)"
   ]
  },
  {
   "cell_type": "code",
   "execution_count": 17,
   "id": "8c5f569c",
   "metadata": {},
   "outputs": [
    {
     "name": "stdout",
     "output_type": "stream",
     "text": [
      "Hydrogen H 1\n"
     ]
    }
   ],
   "source": [
    "obj.desc_element()"
   ]
  },
  {
   "cell_type": "markdown",
   "id": "00531ea7",
   "metadata": {},
   "source": [
    "#### 5. Make a dictionary with these keys and values: &#39;name&#39;: &#39;Hydrogen&#39;, &#39;symbol&#39;: &#39;H&#39;, &#39;number&#39;: 1. Then, create an object called hydrogen from class Element using this dictionary."
   ]
  },
  {
   "cell_type": "code",
   "execution_count": 19,
   "id": "43e929c3",
   "metadata": {},
   "outputs": [],
   "source": [
    "d = {'name':'Hydrogen', 'symbol':'H','number': 1}\n",
    "hydrogen = Element(**d) \n"
   ]
  },
  {
   "cell_type": "code",
   "execution_count": 20,
   "id": "a8979d02",
   "metadata": {},
   "outputs": [
    {
     "data": {
      "text/plain": [
       "'H'"
      ]
     },
     "execution_count": 20,
     "metadata": {},
     "output_type": "execute_result"
    }
   ],
   "source": [
    "hydrogen.symbol"
   ]
  },
  {
   "cell_type": "code",
   "execution_count": 21,
   "id": "43483e36",
   "metadata": {},
   "outputs": [
    {
     "data": {
      "text/plain": [
       "1"
      ]
     },
     "execution_count": 21,
     "metadata": {},
     "output_type": "execute_result"
    }
   ],
   "source": [
    "hydrogen.number"
   ]
  },
  {
   "cell_type": "markdown",
   "id": "8ac24980",
   "metadata": {},
   "source": [
    "#### 6. For the Element class, define a method called dump() that prints the values of the object’s attributes (name, symbol, and number). Create the hydrogen object from this new definition and use dump() to print its attributes."
   ]
  },
  {
   "cell_type": "code",
   "execution_count": 22,
   "id": "07e2f89f",
   "metadata": {},
   "outputs": [],
   "source": [
    "class Element:\n",
    "    def __init__(self,name,symbol,number):\n",
    "        self.name = name\n",
    "        self.symbol = symbol\n",
    "        self.number = number\n",
    "    def dump(self):\n",
    "        print(self.name,self.symbol,self.number)"
   ]
  },
  {
   "cell_type": "code",
   "execution_count": 23,
   "id": "06e189ca",
   "metadata": {},
   "outputs": [],
   "source": [
    "hydrogen = Element(\"Hydrogen\", \"H\", 1)"
   ]
  },
  {
   "cell_type": "code",
   "execution_count": 24,
   "id": "1158d6e1",
   "metadata": {},
   "outputs": [
    {
     "name": "stdout",
     "output_type": "stream",
     "text": [
      "Hydrogen H 1\n"
     ]
    }
   ],
   "source": [
    "hydrogen.dump()"
   ]
  },
  {
   "cell_type": "markdown",
   "id": "58d6ec93",
   "metadata": {},
   "source": [
    "#### 7. Call print(hydrogen). In the definition of Element, change the name of method dump to __str__, create a new hydrogen object, and call print(hydrogen) again."
   ]
  },
  {
   "cell_type": "code",
   "execution_count": 25,
   "id": "ed4873b0",
   "metadata": {},
   "outputs": [
    {
     "name": "stdout",
     "output_type": "stream",
     "text": [
      "<__main__.Element object at 0x0000025E80574B50>\n"
     ]
    }
   ],
   "source": [
    "print(hydrogen)"
   ]
  },
  {
   "cell_type": "code",
   "execution_count": 30,
   "id": "59052b40",
   "metadata": {},
   "outputs": [],
   "source": [
    "class Element:\n",
    "    def __init__(self,name,symbol,number):\n",
    "        self.name = name\n",
    "        self.symbol = symbol\n",
    "        self.number = number\n",
    "    def str(self):\n",
    "        return ('name=%s, symbol=%s, number=%s'% (self.name, self.symbol, self.number))"
   ]
  },
  {
   "cell_type": "code",
   "execution_count": 32,
   "id": "412c8c03",
   "metadata": {},
   "outputs": [
    {
     "name": "stdout",
     "output_type": "stream",
     "text": [
      "name=Hydrogen, symbol=H, number=1\n"
     ]
    }
   ],
   "source": [
    "hydrogen = Element(\"Hydrogen\", \"H\", 1)\n",
    "print(hydrogen.str())"
   ]
  },
  {
   "cell_type": "markdown",
   "id": "5a3305fb",
   "metadata": {},
   "source": [
    "#### 8. Modify Element to make the attributes name, symbol, and number private. Define a getter property for each to return its value."
   ]
  },
  {
   "cell_type": "code",
   "execution_count": 41,
   "id": "fa90d263",
   "metadata": {},
   "outputs": [],
   "source": [
    "class Element:\n",
    "    def __init__(self,name,symbol,number):\n",
    "        self._name = name\n",
    "        self._symbol = symbol\n",
    "        self._number = number\n",
    "    \n",
    "    @property\n",
    "    def name(self):\n",
    "        return (self._name)\n",
    "    \n",
    "    @property\n",
    "    def symbol(self):\n",
    "        return (self._symbol)\n",
    "    \n",
    "    @property\n",
    "    def number(self):\n",
    "        return (self._number)"
   ]
  },
  {
   "cell_type": "code",
   "execution_count": 42,
   "id": "f763508a",
   "metadata": {},
   "outputs": [],
   "source": [
    "hydrogen = Element(\"Hydrogen\", \"H\", 1)"
   ]
  },
  {
   "cell_type": "code",
   "execution_count": 44,
   "id": "81afe496",
   "metadata": {},
   "outputs": [
    {
     "data": {
      "text/plain": [
       "'Hydrogen'"
      ]
     },
     "execution_count": 44,
     "metadata": {},
     "output_type": "execute_result"
    }
   ],
   "source": [
    "hydrogen.name"
   ]
  },
  {
   "cell_type": "code",
   "execution_count": 45,
   "id": "369552ac",
   "metadata": {},
   "outputs": [
    {
     "data": {
      "text/plain": [
       "1"
      ]
     },
     "execution_count": 45,
     "metadata": {},
     "output_type": "execute_result"
    }
   ],
   "source": [
    "hydrogen.number"
   ]
  },
  {
   "cell_type": "code",
   "execution_count": 46,
   "id": "c61a9567",
   "metadata": {},
   "outputs": [
    {
     "data": {
      "text/plain": [
       "'H'"
      ]
     },
     "execution_count": 46,
     "metadata": {},
     "output_type": "execute_result"
    }
   ],
   "source": [
    "hydrogen.symbol"
   ]
  },
  {
   "cell_type": "markdown",
   "id": "0dd55479",
   "metadata": {},
   "source": [
    "#### 9. Define three classes: Bear, Rabbit, and Octothorpe. For each, define only one method: eats(). This should return &#39;berries&#39; (Bear), &#39;clover&#39; (Rabbit), or &#39;campers&#39; (Octothorpe). Create one object from each and print what it eats."
   ]
  },
  {
   "cell_type": "code",
   "execution_count": 53,
   "id": "6823058f",
   "metadata": {},
   "outputs": [],
   "source": [
    "class Bear:\n",
    "    def eats(self):\n",
    "        return \"berries\"\n",
    "    \n",
    "class Rabbit:\n",
    "    def eats(self):\n",
    "        return \"clover\"\n",
    "    \n",
    "class Octothorpe:\n",
    "    def eats(self):\n",
    "        return \"campers\"\n",
    "    "
   ]
  },
  {
   "cell_type": "code",
   "execution_count": 54,
   "id": "4d1c1c21",
   "metadata": {},
   "outputs": [],
   "source": [
    "b = Bear()"
   ]
  },
  {
   "cell_type": "code",
   "execution_count": 55,
   "id": "9cdb1b34",
   "metadata": {},
   "outputs": [
    {
     "data": {
      "text/plain": [
       "'berries'"
      ]
     },
     "execution_count": 55,
     "metadata": {},
     "output_type": "execute_result"
    }
   ],
   "source": [
    "b.eats()"
   ]
  },
  {
   "cell_type": "code",
   "execution_count": 56,
   "id": "76fd196d",
   "metadata": {},
   "outputs": [],
   "source": [
    "r = Rabbit()"
   ]
  },
  {
   "cell_type": "code",
   "execution_count": 57,
   "id": "318676e0",
   "metadata": {},
   "outputs": [
    {
     "data": {
      "text/plain": [
       "'clover'"
      ]
     },
     "execution_count": 57,
     "metadata": {},
     "output_type": "execute_result"
    }
   ],
   "source": [
    "r.eats()"
   ]
  },
  {
   "cell_type": "code",
   "execution_count": 58,
   "id": "a93e924a",
   "metadata": {},
   "outputs": [],
   "source": [
    "o = Octothorpe()"
   ]
  },
  {
   "cell_type": "code",
   "execution_count": 59,
   "id": "d2e62000",
   "metadata": {},
   "outputs": [
    {
     "data": {
      "text/plain": [
       "'campers'"
      ]
     },
     "execution_count": 59,
     "metadata": {},
     "output_type": "execute_result"
    }
   ],
   "source": [
    "o.eats()"
   ]
  },
  {
   "cell_type": "markdown",
   "id": "fbe8eb47",
   "metadata": {},
   "source": [
    "#### 10. Define these classes: Laser, Claw, and SmartPhone. Each has only one method: does(). This returns &#39;disintegrate&#39; (Laser), &#39;crush&#39; (Claw), or &#39;ring&#39; (SmartPhone). Then, define the class Robot that has one instance (object) of each of these. Define a does() method for the Robot that prints what its component objects do."
   ]
  },
  {
   "cell_type": "code",
   "execution_count": 63,
   "id": "168affb2",
   "metadata": {},
   "outputs": [],
   "source": [
    "class Laser:\n",
    "    def does(self):\n",
    "        return \"disintegrate\"\n",
    "    \n",
    "    \n",
    "class Claw:\n",
    "    def does(self):\n",
    "        return \"crush\"\n",
    "    \n",
    "class SmartPhone:\n",
    "    def does(self):\n",
    "        return \"ring\"\n",
    "    \n",
    "\n",
    "class Robot:\n",
    "    def __init__(self):\n",
    "        self.laser = Laser()\n",
    "        self.claw = Claw()\n",
    "        self.smartphone = SmartPhone()\n",
    "    def does(self):\n",
    "        return ('Laser is %s, Claw is %s, SmartPhone is %s' % (self.laser.does(),self.claw.does(),self.smartphone.does()))\n",
    "    "
   ]
  },
  {
   "cell_type": "code",
   "execution_count": 64,
   "id": "7eac3894",
   "metadata": {},
   "outputs": [],
   "source": [
    "r = Robot()"
   ]
  },
  {
   "cell_type": "code",
   "execution_count": 65,
   "id": "31fe22ab",
   "metadata": {},
   "outputs": [
    {
     "data": {
      "text/plain": [
       "'Laser is disintegrate, Claw is crush, SmartPhone is ring'"
      ]
     },
     "execution_count": 65,
     "metadata": {},
     "output_type": "execute_result"
    }
   ],
   "source": [
    "r.does()"
   ]
  },
  {
   "cell_type": "code",
   "execution_count": null,
   "id": "4e08d330",
   "metadata": {},
   "outputs": [],
   "source": []
  }
 ],
 "metadata": {
  "kernelspec": {
   "display_name": "Python 3 (ipykernel)",
   "language": "python",
   "name": "python3"
  },
  "language_info": {
   "codemirror_mode": {
    "name": "ipython",
    "version": 3
   },
   "file_extension": ".py",
   "mimetype": "text/x-python",
   "name": "python",
   "nbconvert_exporter": "python",
   "pygments_lexer": "ipython3",
   "version": "3.9.7"
  }
 },
 "nbformat": 4,
 "nbformat_minor": 5
}
