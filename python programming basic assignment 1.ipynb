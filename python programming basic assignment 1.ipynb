{
 "cells": [
  {
   "cell_type": "markdown",
   "id": "ec0ab517",
   "metadata": {},
   "source": [
    "#### 1. Write a Python program to print \"Hello Python\"?"
   ]
  },
  {
   "cell_type": "code",
   "execution_count": 2,
   "id": "a329396b",
   "metadata": {},
   "outputs": [
    {
     "name": "stdout",
     "output_type": "stream",
     "text": [
      "hello python\n"
     ]
    }
   ],
   "source": [
    "print(\"hello python\")"
   ]
  },
  {
   "cell_type": "markdown",
   "id": "47813312",
   "metadata": {},
   "source": [
    "#### 2. Write a Python program to do arithmetical operations addition and division.?"
   ]
  },
  {
   "cell_type": "code",
   "execution_count": 6,
   "id": "2b379f65",
   "metadata": {},
   "outputs": [
    {
     "name": "stdout",
     "output_type": "stream",
     "text": [
      "enter the first number: 100\n",
      "enter the second number: 50\n",
      " addition of two given two numbers is:  150\n",
      "divison of two given numbers is:  2.0\n"
     ]
    }
   ],
   "source": [
    "num1 = int(input(\"enter the first number: \"))\n",
    "num2 = int(input(\"enter the second number: \"))\n",
    "add = num1 + num2\n",
    "div = num1 / num2\n",
    "\n",
    "print(\" addition of two given two numbers is: \", add)\n",
    "print(\"divison of two given numbers is: \", div)\n"
   ]
  },
  {
   "cell_type": "markdown",
   "id": "a5ea6be3",
   "metadata": {},
   "source": [
    "#### 3. Write a Python program to find the area of a triangle?"
   ]
  },
  {
   "cell_type": "markdown",
   "id": "9149c950",
   "metadata": {},
   "source": [
    "The area of the right angled triangle is:\n",
    "\n",
    "area = 1/2(b*h)"
   ]
  },
  {
   "cell_type": "code",
   "execution_count": 1,
   "id": "8b0e374d",
   "metadata": {},
   "outputs": [
    {
     "name": "stdout",
     "output_type": "stream",
     "text": [
      "enter the base value: 5\n",
      "enter the height value: 7\n",
      " area of the triangle with give base and height is:  17.5\n"
     ]
    }
   ],
   "source": [
    "b = float(input(\"enter the base value: \"))\n",
    "h = float(input(\"enter the height value: \"))\n",
    "area = (b * h)/2\n",
    "print(\" area of the triangle with give base and height is: \", area)"
   ]
  },
  {
   "cell_type": "markdown",
   "id": "bfab0e11",
   "metadata": {},
   "source": [
    "The area of the scalene traingle in which all three sides are unequal,\n",
    "\n",
    "area = (s*(s-a)*(s-b)*(s-c))**0.5,\n",
    "\n",
    "s = (a+b+c)/2, where a, b,c are length of sides the triangle.\n",
    "\n"
   ]
  },
  {
   "cell_type": "code",
   "execution_count": 2,
   "id": "5f241e30",
   "metadata": {},
   "outputs": [
    {
     "name": "stdout",
     "output_type": "stream",
     "text": [
      "enter the length of first side: 7\n",
      "enter the length of the second side: 8\n",
      "enter the length of third side: 4\n",
      " the area of the triangle is:  13.997767679169419\n"
     ]
    }
   ],
   "source": [
    "a = float(input(\"enter the length of first side: \"))\n",
    "b = float(input(\"enter the length of the second side: \"))\n",
    "c = float(input(\"enter the length of third side: \"))\n",
    "s = (a+b+c)/2\n",
    "area = (s*(s-a)*(s-b)*(s-c))**0.5\n",
    "print(\" the area of the triangle is: \", area)"
   ]
  },
  {
   "cell_type": "code",
   "execution_count": null,
   "id": "2a5eea84",
   "metadata": {},
   "outputs": [],
   "source": []
  },
  {
   "cell_type": "code",
   "execution_count": null,
   "id": "b04425ed",
   "metadata": {},
   "outputs": [],
   "source": []
  },
  {
   "cell_type": "markdown",
   "id": "1790c071",
   "metadata": {},
   "source": [
    "#### 4. Write a Python program to swap two variables?"
   ]
  },
  {
   "cell_type": "code",
   "execution_count": 3,
   "id": "9d4e2bda",
   "metadata": {},
   "outputs": [
    {
     "name": "stdout",
     "output_type": "stream",
     "text": [
      "enter the x value: 12\n",
      "enter the y value: 4\n",
      "the x value after swapped is:  4\n",
      "the y value after swapped is:  12\n"
     ]
    }
   ],
   "source": [
    "x = int(input(\"enter the x value: \"))\n",
    "y = int(input(\"enter the y value: \"))\n",
    "temp = x\n",
    "x = y\n",
    "y = temp\n",
    "print(\"the x value after swapped is: \", x)\n",
    "print(\"the y value after swapped is: \", y)"
   ]
  },
  {
   "cell_type": "code",
   "execution_count": null,
   "id": "d48d9b9b",
   "metadata": {},
   "outputs": [],
   "source": []
  },
  {
   "cell_type": "markdown",
   "id": "0520f223",
   "metadata": {},
   "source": [
    "#### 5. Write a Python program to generate a random number?"
   ]
  },
  {
   "cell_type": "markdown",
   "id": "4bbc4fd8",
   "metadata": {},
   "source": [
    "In python, to generate a random number, a set of inbuilt functions are defined in random module. \n",
    "\n",
    "1. choice():\n",
    "This method returns a random item from a list, tuple, or string.\n",
    "\n",
    "2. random():\n",
    "This method is used to generate a float random number less than 1 and greater or equal to 0.\n",
    "\n",
    "3. randint():\n",
    "This method generates an integer number within a specific range. We can pass the two numbers as arguments that defines the range."
   ]
  },
  {
   "cell_type": "code",
   "execution_count": 4,
   "id": "96c5eba0",
   "metadata": {},
   "outputs": [
    {
     "name": "stdout",
     "output_type": "stream",
     "text": [
      "78\n"
     ]
    }
   ],
   "source": [
    "# choice() \n",
    "import random\n",
    "lst = [5,7,10,43,78]\n",
    "n = random.choice(lst)\n",
    "print(n)"
   ]
  },
  {
   "cell_type": "code",
   "execution_count": 5,
   "id": "d45a2662",
   "metadata": {},
   "outputs": [
    {
     "name": "stdout",
     "output_type": "stream",
     "text": [
      "0.8948399152912994\n"
     ]
    }
   ],
   "source": [
    "# random()\n",
    "import random\n",
    "n = random.random()\n",
    "print(n)"
   ]
  },
  {
   "cell_type": "code",
   "execution_count": 6,
   "id": "6a5554bb",
   "metadata": {},
   "outputs": [
    {
     "name": "stdout",
     "output_type": "stream",
     "text": [
      "61\n"
     ]
    }
   ],
   "source": [
    "# randint()\n",
    "n = random.randint(35,75)\n",
    "print(n)"
   ]
  },
  {
   "cell_type": "code",
   "execution_count": null,
   "id": "d04eae12",
   "metadata": {},
   "outputs": [],
   "source": []
  }
 ],
 "metadata": {
  "kernelspec": {
   "display_name": "Python 3",
   "language": "python",
   "name": "python3"
  },
  "language_info": {
   "codemirror_mode": {
    "name": "ipython",
    "version": 3
   },
   "file_extension": ".py",
   "mimetype": "text/x-python",
   "name": "python",
   "nbconvert_exporter": "python",
   "pygments_lexer": "ipython3",
   "version": "3.8.8"
  }
 },
 "nbformat": 4,
 "nbformat_minor": 5
}
