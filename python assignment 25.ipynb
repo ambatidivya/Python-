{
 "cells": [
  {
   "cell_type": "markdown",
   "id": "d938702d",
   "metadata": {},
   "source": [
    "#### 1.What is the difference between enclosing a list comprehension in square brackets and parentheses?"
   ]
  },
  {
   "cell_type": "markdown",
   "id": "9f655c4f",
   "metadata": {},
   "source": [
    "list comprehension in square brackets are lists while parentheses are tuples. Lists are enclosed in square brackets[] and tuples in parentheses()\n",
    "\n",
    "List Comprehension with square brackets produces list. List Comprehension with parentheses creates generators"
   ]
  },
  {
   "cell_type": "code",
   "execution_count": 1,
   "id": "4d2a708a",
   "metadata": {},
   "outputs": [
    {
     "data": {
      "text/plain": [
       "[0, 1, 2, 3, 4, 5, 6, 7, 8, 9]"
      ]
     },
     "execution_count": 1,
     "metadata": {},
     "output_type": "execute_result"
    }
   ],
   "source": [
    "lstSqu = [i for i in range(10)]\n",
    "lstSqu"
   ]
  },
  {
   "cell_type": "code",
   "execution_count": 2,
   "id": "fac0139d",
   "metadata": {},
   "outputs": [
    {
     "data": {
      "text/plain": [
       "<generator object <genexpr> at 0x0000018D70D46D60>"
      ]
     },
     "execution_count": 2,
     "metadata": {},
     "output_type": "execute_result"
    }
   ],
   "source": [
    "lstPara = (i for i in range(10))\n",
    "lstPara"
   ]
  },
  {
   "cell_type": "code",
   "execution_count": null,
   "id": "2ae8610a",
   "metadata": {},
   "outputs": [],
   "source": []
  },
  {
   "cell_type": "markdown",
   "id": "06d458a9",
   "metadata": {},
   "source": [
    "#### 2. What is the relationship between generators and iterators?"
   ]
  },
  {
   "cell_type": "markdown",
   "id": "08a16943",
   "metadata": {},
   "source": [
    "Iterators: A process that is repeated more than one time by applying the same logic is called an Iteration. An iterator is an object which contains a countable number of values and it is used to iterate over iterable objects like list, tuples, sets, etc.\n",
    "\n",
    "1. Class is used to implement an iterator\n",
    "2. Iterators are used mostly to iterate or convert other objects to an iterator using iter() function. \n",
    "3. Iterator uses iter() and next() functions \n",
    "4. Every iterator is not a generator\n",
    "\n",
    "Generators: \n",
    "\n",
    "1. Function is used to implement a generator.\n",
    "2. Generators are mostly used in loops to generate an iterator by returning all the values in the loop without affecting the iteration of the loop\n",
    "3. Generator uses yield keyword\n",
    "4. Every generator is an iterator"
   ]
  },
  {
   "cell_type": "markdown",
   "id": "aea56c71",
   "metadata": {},
   "source": [
    "#### 3. What are the signs that a function is a generator function?"
   ]
  },
  {
   "cell_type": "markdown",
   "id": "7f0e839b",
   "metadata": {},
   "source": [
    " A generator function is similar to a function in python but it gives an iterator-like generator to the caller as output  instead of an object or a value. Also, we use yield statements instead of return statements in a generator function. The yield statement pauses the execution of the generator function whenever it is executed and returns the output value to the caller. A generator function can have one or more than one yield statements but it cannot have a return statement."
   ]
  },
  {
   "cell_type": "markdown",
   "id": "c22b1202",
   "metadata": {},
   "source": [
    "#### 4. What is the purpose of a yield statement?"
   ]
  },
  {
   "cell_type": "markdown",
   "id": "93da0d90",
   "metadata": {},
   "source": [
    "The yield statement pauses the execution of the generator function whenever it is executed and returns the output value to the caller."
   ]
  },
  {
   "cell_type": "markdown",
   "id": "129663d1",
   "metadata": {},
   "source": [
    "#### 5. What is the relationship between map calls and list comprehensions? Make a comparison and contrast between the two."
   ]
  },
  {
   "cell_type": "markdown",
   "id": "d05337ff",
   "metadata": {},
   "source": [
    "Map function:\n",
    "map() function returns a map object(which is an iterator) of the results after applying the given function to each item of a given iterable (list, tuple etc.)\n",
    "\n",
    "List Comprehension:\n",
    "List Comprehension is a substitute for the lambda function, map(), filter() and reduce()\n",
    "\n",
    "\n",
    "Comparision between map calls and list comprehensions :\n",
    "1. List comprehension is more concise and easier to read as compared to map\n",
    "2. List comprehension allows filtering. In map, we have no such facility\n",
    "    \n",
    "For example, to print all even numbers in range of 100, we can write [n for n in range(100) if n%2 == 0]. There is  no alternate for it in map\n",
    "    \n",
    "3. List comprehension are used when a list of results is required, where as map only returns a map object and does not return any list.\n",
    "4. List comprehension is faster than map when we need to evaluate expressions that are too long or complicated to express\n",
    "5. Map is faster in case of calling an already defined function (as no lambda is required)"
   ]
  },
  {
   "cell_type": "code",
   "execution_count": null,
   "id": "a794fa79",
   "metadata": {},
   "outputs": [],
   "source": []
  },
  {
   "cell_type": "code",
   "execution_count": null,
   "id": "b5620b2c",
   "metadata": {},
   "outputs": [],
   "source": []
  },
  {
   "cell_type": "code",
   "execution_count": null,
   "id": "8316a738",
   "metadata": {},
   "outputs": [],
   "source": []
  }
 ],
 "metadata": {
  "kernelspec": {
   "display_name": "Python 3 (ipykernel)",
   "language": "python",
   "name": "python3"
  },
  "language_info": {
   "codemirror_mode": {
    "name": "ipython",
    "version": 3
   },
   "file_extension": ".py",
   "mimetype": "text/x-python",
   "name": "python",
   "nbconvert_exporter": "python",
   "pygments_lexer": "ipython3",
   "version": "3.9.7"
  }
 },
 "nbformat": 4,
 "nbformat_minor": 5
}
