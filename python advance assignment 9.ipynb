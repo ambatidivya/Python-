{
 "cells": [
  {
   "cell_type": "markdown",
   "id": "7118be60",
   "metadata": {},
   "source": [
    "#### Q1. In Python 3.X, what are the names and functions of string object types?"
   ]
  },
  {
   "cell_type": "markdown",
   "id": "b901fa3e",
   "metadata": {},
   "source": [
    "Python 3.0 comes with 3 string object types:\n",
    "\n",
    "1. str : this is for representing Unicode text (decoded code points). str type is defined as an immutable sequence of characters. Its content may contain both simple text such as ASCII whose encoded and decoded forms yield one byte per character\n",
    "\n",
    "2. bytes: this is for representing binary data (including encoded text). bytes type is defined as an immutable sequence of 8-bit integers representing byte values, and supports almost all the same operations that the str type does; this includes string methods, sequence operations,\n",
    "\n",
    "3. bytearray: this is a mutable flavor of the bytes type. this is a variant of bytes, which is mutable, and so supports in-place changes. The bytearray type supports the usual string operations that str and bytes do, but also has many of the same in-place change operations as lists (e.g., append() and extend(), and assignment to indexes). Assuming your strings can be treated as raw bytes, bytearray finally adds direct in-place mutability for string data"
   ]
  },
  {
   "cell_type": "markdown",
   "id": "72fe3355",
   "metadata": {},
   "source": [
    "#### Q2. How do the string forms in Python 3.X vary in terms of operations?"
   ]
  },
  {
   "cell_type": "markdown",
   "id": "f85a4214",
   "metadata": {},
   "source": [
    "String Operations can be done in three ways:\n",
    "\n",
    "Using f-strings\n",
    "By format() method\n",
    "Using % operator\n",
    "\n",
    "1. f-string: Letter “f” is placed before the beginning of the string, and the variables mentioned in curly braces will refer to the variables declared above. For example, {name} refers to the name variable defined. Similarly {a} and {b} refers to variable a and b respectively.\n",
    "\n",
    "2. format() method: format() method is called on a string object. Inside the string, we use curly braces {} that will refer to the format() method arguments. Number of {} should match the number of arguments inside format(). In default formatting, {} will refer to the format() arguments in the order in which they are placed. In positional formatting, order is indicated inside {}. In keyword formatting, certain keywords are used inside {} which will be mapped to corresponding format() arguments.\n",
    "\n",
    "3. % operator: “%” operator will be replaced by variables defined in parenthesis/in tuple. %s means a string variable will come to this place, %d is an integer, %f is a floating-point value."
   ]
  },
  {
   "cell_type": "markdown",
   "id": "cbdeb8d1",
   "metadata": {},
   "source": [
    "#### Q3. In 3.X, how do you put non-ASCII Unicode characters in a string?"
   ]
  },
  {
   "cell_type": "markdown",
   "id": "47728b85",
   "metadata": {},
   "source": [
    "Encoding and decoding get more meaningful when you start dealing with actual non-ASCII Unicode text. To code Unicode characters that may be difficult to type on your keyboard, Python string literals support both:\n",
    "\n",
    "\\xNN hex escapes, where 2 hex digits (NN) specify a character code as a 1-byte (8-bit) numeric value\n",
    "\\uNNNN and \\UNNNNNNNN Unicode escapes, where the first form gives 4 hex digits to denote a 2-byte (16-bit) character code, and the second gives 8 hex digits for a 4-byte (32-bit) code.\n",
    "\n",
    "To code non-ASCII characters, you can use hex and Unicode escapes in your strings."
   ]
  },
  {
   "cell_type": "markdown",
   "id": "c029820b",
   "metadata": {},
   "source": [
    "#### Q4. In Python 3.X, what are the key differences between text-mode and binary-mode files?"
   ]
  },
  {
   "cell_type": "markdown",
   "id": "89aadac4",
   "metadata": {},
   "source": [
    "Text mode implies str objects, and binary mode implies bytes.\n",
    "\n",
    "Text mode files interpret file contents according to an encoding either the default for platform, or one whose name you pass in. By passing in an encoding name to open(), you can force conversions for various types of Unicode files. Text mode files may also perform universal line-end translations for you or not; by default, all line-end forms map to the \\n character in your script, regardless of which platform you are on.\n",
    "\n",
    "Binary mode files instead return file content to you raw, as a sequence of integers representing byte values, with no encoding or decoding, and no line-end translations.\n",
    "\n",
    "In 3.0, though, this mode argument to open() also implies an object type for file content representation regardless of the underlying platform—text files return a str for reads and expect one for writes, but binary files return a bytes for reads and expect bytes (or bytearray) for writes."
   ]
  },
  {
   "cell_type": "markdown",
   "id": "c6e73c9e",
   "metadata": {},
   "source": [
    "#### Q5. How can you interpret a Unicode text file containing text encoded in a different encoding than your platform&#39;s default?"
   ]
  },
  {
   "cell_type": "markdown",
   "id": "6103c92c",
   "metadata": {},
   "source": [
    "Text mode files interpret file contents according to an encoding either the default for platform, or one whose name you pass in. By passing in an encoding name to open(), you can force conversions for various types of Unicode files."
   ]
  },
  {
   "cell_type": "markdown",
   "id": "e9580abb",
   "metadata": {},
   "source": [
    "#### Q6. What is the best way to make a Unicode text file in a particular encoding format?"
   ]
  },
  {
   "cell_type": "markdown",
   "id": "84ac6b9d",
   "metadata": {},
   "source": [
    "Text files allow a specific Unicode encoding-scheme name to be passed in with an encoding argument, and use it to automatically decode and encode text on input and output, respectively:\n",
    "\n",
    "open(filename, encoding='utf8', 'r') ---- decodes on reads\n",
    "\n",
    "open(filename, encoding='latin1', 'w') ---- encodes on writes\n",
    "\n",
    "codecs.open()"
   ]
  },
  {
   "cell_type": "markdown",
   "id": "bd9c0cef",
   "metadata": {},
   "source": [
    "#### Q7. What qualifies ASCII text as a form of Unicode text?\n"
   ]
  },
  {
   "cell_type": "markdown",
   "id": "76505732",
   "metadata": {},
   "source": [
    "ASCII: It is a character encoding standard for electronic communication. American Standard Code for Information Interchange(ASCII). ASCII codes are used to represent text in computers and telecom devices.  ASCII is used for representing 128 English characters in the form of numbers, with each letter being assigned to a specific number in the range 0 to 127. For e.g., the ASCII code for uppercase A is 65, uppercase B is 66, and so on.\n",
    "\n",
    "unicode: Unicode can be defined with different character encoding like UTF-8, UTF-16, UTF-32, etc. Among these UTF-8 is the most popular. Unicode provides a unique way to define every character in every spoken language of the world by assigning it a unique number.\n",
    "\n",
    "For backward compatibility, the first 128 Unicode characters point to ASCII characters. And since UTF-8 encodes each of those characters using 1-byte. \n",
    "ASCII is essentially just UTF-8, or we can say that ASCII is a subset of Unicode. Vice versa isn’t true. Unicode is the universal character encoding used to process, store and facilitate the interchange of text data in any language while ASCII is used for the representation of text such as symbols, letters, digits, etc. in computers."
   ]
  },
  {
   "cell_type": "markdown",
   "id": "c567ca1e",
   "metadata": {},
   "source": [
    "#### Q8. How much of an effect does the change in string types in Python 3.X have on your code?"
   ]
  },
  {
   "cell_type": "markdown",
   "id": "a422f697",
   "metadata": {},
   "source": [
    "Python 2.X allows its str and unicode objects to be freely mixed, 3.X draws a much sharper distinction—str and bytes never mix automatically in expressions, and as a rule are not converted to one another automatically when passed to functions. That is, a function that expects an argument to be a str object won't generally accept a bytes (and vice versa)."
   ]
  },
  {
   "cell_type": "code",
   "execution_count": null,
   "id": "fc14bf07",
   "metadata": {},
   "outputs": [],
   "source": []
  },
  {
   "cell_type": "code",
   "execution_count": null,
   "id": "b442c553",
   "metadata": {},
   "outputs": [],
   "source": []
  }
 ],
 "metadata": {
  "kernelspec": {
   "display_name": "Python 3 (ipykernel)",
   "language": "python",
   "name": "python3"
  },
  "language_info": {
   "codemirror_mode": {
    "name": "ipython",
    "version": 3
   },
   "file_extension": ".py",
   "mimetype": "text/x-python",
   "name": "python",
   "nbconvert_exporter": "python",
   "pygments_lexer": "ipython3",
   "version": "3.9.7"
  }
 },
 "nbformat": 4,
 "nbformat_minor": 5
}
