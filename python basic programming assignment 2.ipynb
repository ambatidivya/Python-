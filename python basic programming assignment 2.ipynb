{
 "cells": [
  {
   "cell_type": "markdown",
   "id": "c081ab1f",
   "metadata": {},
   "source": [
    "#### 1. Write a Python program to convert kilometers to miles?"
   ]
  },
  {
   "cell_type": "markdown",
   "id": "8b2e562e",
   "metadata": {},
   "source": [
    "As we know that, 1 kilometer is equal to 0.621371 miles.\n"
   ]
  },
  {
   "cell_type": "code",
   "execution_count": 3,
   "id": "78a6eaad",
   "metadata": {},
   "outputs": [
    {
     "name": "stdout",
     "output_type": "stream",
     "text": [
      " enter the value in kilometers: 4.3\n",
      "4.3 kilometers is equal to 2.6718953 miles\n"
     ]
    }
   ],
   "source": [
    "km = float(input(\" enter the value in kilometers: \"))\n",
    "miles = km * 0.621371\n",
    "print(km, \"kilometers is equal to\", miles, \"miles\")"
   ]
  },
  {
   "cell_type": "markdown",
   "id": "3fff7603",
   "metadata": {},
   "source": [
    "#### 2. Write a Python program to convert Celsius to Fahrenheit?"
   ]
  },
  {
   "cell_type": "markdown",
   "id": "0a292247",
   "metadata": {},
   "source": [
    "we know that, Temp in fahrenheit = (temp in celsius)*9/5+32"
   ]
  },
  {
   "cell_type": "code",
   "execution_count": 4,
   "id": "64df2f6f",
   "metadata": {},
   "outputs": [
    {
     "name": "stdout",
     "output_type": "stream",
     "text": [
      "enter the temperature in degree celsius: 5\n",
      "5.0 degree celsius temperature is equal to  41.0 degree fahrenheit\n"
     ]
    }
   ],
   "source": [
    "celsius = float(input(\"enter the temperature in degree celsius: \"))\n",
    "fahrenheit = (celsius)*9/5+32\n",
    "print(celsius, \"degree celsius temperature is equal to \",fahrenheit, \"degree fahrenheit\" )\n"
   ]
  },
  {
   "cell_type": "code",
   "execution_count": null,
   "id": "cb35ab20",
   "metadata": {},
   "outputs": [],
   "source": []
  },
  {
   "cell_type": "markdown",
   "id": "91e6d3be",
   "metadata": {},
   "source": [
    "#### 3. Write a Python program to display calendar?"
   ]
  },
  {
   "cell_type": "code",
   "execution_count": 5,
   "id": "2d620b08",
   "metadata": {},
   "outputs": [
    {
     "name": "stdout",
     "output_type": "stream",
     "text": [
      "   December 2021\n",
      "Mo Tu We Th Fr Sa Su\n",
      "       1  2  3  4  5\n",
      " 6  7  8  9 10 11 12\n",
      "13 14 15 16 17 18 19\n",
      "20 21 22 23 24 25 26\n",
      "27 28 29 30 31\n",
      "\n"
     ]
    }
   ],
   "source": [
    "import calendar\n",
    "year = 2021\n",
    "month = 12\n",
    "print(calendar.month(year,month))"
   ]
  },
  {
   "cell_type": "code",
   "execution_count": 6,
   "id": "0343a9d3",
   "metadata": {},
   "outputs": [
    {
     "name": "stdout",
     "output_type": "stream",
     "text": [
      "                                  2022\n",
      "\n",
      "      January                   February                   March\n",
      "Mo Tu We Th Fr Sa Su      Mo Tu We Th Fr Sa Su      Mo Tu We Th Fr Sa Su\n",
      "                1  2          1  2  3  4  5  6          1  2  3  4  5  6\n",
      " 3  4  5  6  7  8  9       7  8  9 10 11 12 13       7  8  9 10 11 12 13\n",
      "10 11 12 13 14 15 16      14 15 16 17 18 19 20      14 15 16 17 18 19 20\n",
      "17 18 19 20 21 22 23      21 22 23 24 25 26 27      21 22 23 24 25 26 27\n",
      "24 25 26 27 28 29 30      28                        28 29 30 31\n",
      "31\n",
      "\n",
      "       April                      May                       June\n",
      "Mo Tu We Th Fr Sa Su      Mo Tu We Th Fr Sa Su      Mo Tu We Th Fr Sa Su\n",
      "             1  2  3                         1             1  2  3  4  5\n",
      " 4  5  6  7  8  9 10       2  3  4  5  6  7  8       6  7  8  9 10 11 12\n",
      "11 12 13 14 15 16 17       9 10 11 12 13 14 15      13 14 15 16 17 18 19\n",
      "18 19 20 21 22 23 24      16 17 18 19 20 21 22      20 21 22 23 24 25 26\n",
      "25 26 27 28 29 30         23 24 25 26 27 28 29      27 28 29 30\n",
      "                          30 31\n",
      "\n",
      "        July                     August                  September\n",
      "Mo Tu We Th Fr Sa Su      Mo Tu We Th Fr Sa Su      Mo Tu We Th Fr Sa Su\n",
      "             1  2  3       1  2  3  4  5  6  7                1  2  3  4\n",
      " 4  5  6  7  8  9 10       8  9 10 11 12 13 14       5  6  7  8  9 10 11\n",
      "11 12 13 14 15 16 17      15 16 17 18 19 20 21      12 13 14 15 16 17 18\n",
      "18 19 20 21 22 23 24      22 23 24 25 26 27 28      19 20 21 22 23 24 25\n",
      "25 26 27 28 29 30 31      29 30 31                  26 27 28 29 30\n",
      "\n",
      "      October                   November                  December\n",
      "Mo Tu We Th Fr Sa Su      Mo Tu We Th Fr Sa Su      Mo Tu We Th Fr Sa Su\n",
      "                1  2          1  2  3  4  5  6                1  2  3  4\n",
      " 3  4  5  6  7  8  9       7  8  9 10 11 12 13       5  6  7  8  9 10 11\n",
      "10 11 12 13 14 15 16      14 15 16 17 18 19 20      12 13 14 15 16 17 18\n",
      "17 18 19 20 21 22 23      21 22 23 24 25 26 27      19 20 21 22 23 24 25\n",
      "24 25 26 27 28 29 30      28 29 30                  26 27 28 29 30 31\n",
      "31\n",
      "\n"
     ]
    }
   ],
   "source": [
    "year = 2022\n",
    "print(calendar.calendar(year))"
   ]
  },
  {
   "cell_type": "markdown",
   "id": "5b511fa9",
   "metadata": {},
   "source": [
    "#### 4. Write a Python program to solve quadratic equation?"
   ]
  },
  {
   "cell_type": "markdown",
   "id": "71a82cfb",
   "metadata": {},
   "source": [
    "The standard form of quadratic equation is ax² + bx + c = 0 with a, b, and c being constants or numerical coefficients, and a != 0, and x is an unknown variable"
   ]
  },
  {
   "cell_type": "markdown",
   "id": "62979c2e",
   "metadata": {},
   "source": [
    "using the quadratic formula we can find the root of the quadratic equation.,\n",
    "\n",
    "x1 = (-(b)+sqrt((b**2)-(4*a*c)))/(2*a)\n",
    "\n",
    "x2 = (-(b)-sqrt((b**2)-(4*a*c)))/(2*a)\n",
    "\n",
    "here discrement is d = b**2 - 4ac"
   ]
  },
  {
   "cell_type": "code",
   "execution_count": 8,
   "id": "82fd3061",
   "metadata": {},
   "outputs": [
    {
     "name": "stdout",
     "output_type": "stream",
     "text": [
      "enter a value: 5\n",
      "enter b value: -2\n",
      "enter c value: 1\n",
      "(0.2+0.4j) (0.2-0.4j)\n"
     ]
    }
   ],
   "source": [
    "import cmath\n",
    "a = float(input(\"enter a value: \"))\n",
    "b = float(input(\"enter b value: \"))\n",
    "c = float(input(\"enter c value: \"))\n",
    "\n",
    "# calculate discriminant\n",
    "d = (b**2)-(4*a*c)\n",
    "\n",
    "# find the roots with formula\n",
    "x1 = (-b + cmath.sqrt(d))/(2*a)\n",
    "x2 = (-b - cmath.sqrt(d))/(2*a)\n",
    "print( x1, x2)"
   ]
  },
  {
   "cell_type": "markdown",
   "id": "0a6ebfa3",
   "metadata": {},
   "source": [
    "#### 5. Write a Python program to swap two variables without temp variable?"
   ]
  },
  {
   "cell_type": "code",
   "execution_count": 1,
   "id": "e981b6f9",
   "metadata": {},
   "outputs": [
    {
     "name": "stdout",
     "output_type": "stream",
     "text": [
      "enter the x value: 45\n",
      "enter the y value: 98\n",
      " x value after swapping is:  98\n",
      " y value after swapping is:  45\n"
     ]
    }
   ],
   "source": [
    "x = int(input(\"enter the x value: \"))\n",
    "y = int(input(\"enter the y value: \"))\n",
    "x, y = y, x\n",
    "print(\" x value after swapping is: \", x)\n",
    "print(\" y value after swapping is: \", y)"
   ]
  },
  {
   "cell_type": "code",
   "execution_count": null,
   "id": "127eac33",
   "metadata": {},
   "outputs": [],
   "source": []
  }
 ],
 "metadata": {
  "kernelspec": {
   "display_name": "Python 3",
   "language": "python",
   "name": "python3"
  },
  "language_info": {
   "codemirror_mode": {
    "name": "ipython",
    "version": 3
   },
   "file_extension": ".py",
   "mimetype": "text/x-python",
   "name": "python",
   "nbconvert_exporter": "python",
   "pygments_lexer": "ipython3",
   "version": "3.8.8"
  }
 },
 "nbformat": 4,
 "nbformat_minor": 5
}
