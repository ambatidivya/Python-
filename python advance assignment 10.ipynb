{
 "cells": [
  {
   "cell_type": "markdown",
   "id": "5c162a62",
   "metadata": {},
   "source": [
    "#### Q1. What is the difference between __getattr__ and __getattribute__?"
   ]
  },
  {
   "cell_type": "markdown",
   "id": "84fe140e",
   "metadata": {},
   "source": [
    "__getattr__ gets called if there is no attribute in the instance.\n",
    "\n",
    "__getattribute__ gets called all the times, whether there is the attribute or not.\n",
    "\n",
    "The main difference between __getattr__ and __getattribute__ is that if the attribute was not found by the usual way then __getattr__ is used. Whereas the __getattribute__ is used before looking at the actual attributes on the object. You will have to use it more consciously otherwise very easily you can end up in infinite recursions."
   ]
  },
  {
   "cell_type": "markdown",
   "id": "0efed36c",
   "metadata": {},
   "source": [
    "#### Q2. What is the difference between properties and descriptors?"
   ]
  },
  {
   "cell_type": "markdown",
   "id": "2c8293b1",
   "metadata": {},
   "source": [
    "A descriptor is a special kind of class attribute that implements a descriptor protocol. if you ask for the attribute value for a descriptor attribute, or assign to it, Python will ask the descriptor object what to do. descriptors are a low-level mechanism that lets you hook into an object's attributes being accessed\n",
    "\n",
    "A property is simply a ready-made descriptor type that maps attribute access to getter and setter methods. Properties are a high-level application, that  are implemented using descriptors. "
   ]
  },
  {
   "cell_type": "markdown",
   "id": "0c8bcac8",
   "metadata": {},
   "source": [
    "#### Q3. What are the key differences in functionality between __getattr__ and __getattribute__, as well as properties and descriptors?"
   ]
  },
  {
   "cell_type": "markdown",
   "id": "69ef6879",
   "metadata": {},
   "source": [
    "getattr: The getattr() method returns the value of the named attribute of an object. If not found, it returns the default value provided to the function.\n",
    "\n",
    "The syntax of getattr() method is:  getattr(object, name[, default])\n",
    "\n",
    "The above syntax is equivalent to:  object.name\n",
    "\n"
   ]
  },
  {
   "cell_type": "code",
   "execution_count": 1,
   "id": "b646238f",
   "metadata": {},
   "outputs": [
    {
     "name": "stdout",
     "output_type": "stream",
     "text": [
      "The age is: 23\n",
      "The age is: 23\n"
     ]
    }
   ],
   "source": [
    "class Person:\n",
    "    age = 23\n",
    "    name = \"xyz\"\n",
    "\n",
    "person = Person()\n",
    "print('The age is:', getattr(person, \"age\"))\n",
    "print('The age is:', person.age)"
   ]
  },
  {
   "cell_type": "code",
   "execution_count": 2,
   "id": "42fad5df",
   "metadata": {},
   "outputs": [
    {
     "name": "stdout",
     "output_type": "stream",
     "text": [
      "The sex is: Male\n"
     ]
    },
    {
     "ename": "AttributeError",
     "evalue": "'Person' object has no attribute 'sex'",
     "output_type": "error",
     "traceback": [
      "\u001b[1;31m---------------------------------------------------------------------------\u001b[0m",
      "\u001b[1;31mAttributeError\u001b[0m                            Traceback (most recent call last)",
      "\u001b[1;32m~\\AppData\\Local\\Temp/ipykernel_36960/4232513018.py\u001b[0m in \u001b[0;36m<module>\u001b[1;34m\u001b[0m\n\u001b[0;32m     11\u001b[0m \u001b[1;33m\u001b[0m\u001b[0m\n\u001b[0;32m     12\u001b[0m \u001b[1;31m# when no default value is provided\u001b[0m\u001b[1;33m\u001b[0m\u001b[1;33m\u001b[0m\u001b[0m\n\u001b[1;32m---> 13\u001b[1;33m \u001b[0mprint\u001b[0m\u001b[1;33m(\u001b[0m\u001b[1;34m'The sex is:'\u001b[0m\u001b[1;33m,\u001b[0m \u001b[0mgetattr\u001b[0m\u001b[1;33m(\u001b[0m\u001b[0mperson\u001b[0m\u001b[1;33m,\u001b[0m \u001b[1;34m'sex'\u001b[0m\u001b[1;33m)\u001b[0m\u001b[1;33m)\u001b[0m\u001b[1;33m\u001b[0m\u001b[1;33m\u001b[0m\u001b[0m\n\u001b[0m",
      "\u001b[1;31mAttributeError\u001b[0m: 'Person' object has no attribute 'sex'"
     ]
    }
   ],
   "source": [
    "## getattr() when named attribute is not found\n",
    "\n",
    "class Person:\n",
    "    age = 23\n",
    "    name = \"xyz\"\n",
    "\n",
    "person = Person()\n",
    "\n",
    "# when default value is provided\n",
    "print('The sex is:', getattr(person, 'sex', 'Male'))\n",
    "\n",
    "# when no default value is provided\n",
    "print('The sex is:', getattr(person, 'sex'))"
   ]
  },
  {
   "cell_type": "code",
   "execution_count": null,
   "id": "d220f2f3",
   "metadata": {},
   "outputs": [],
   "source": []
  },
  {
   "cell_type": "code",
   "execution_count": null,
   "id": "eb376323",
   "metadata": {},
   "outputs": [],
   "source": []
  }
 ],
 "metadata": {
  "kernelspec": {
   "display_name": "Python 3 (ipykernel)",
   "language": "python",
   "name": "python3"
  },
  "language_info": {
   "codemirror_mode": {
    "name": "ipython",
    "version": 3
   },
   "file_extension": ".py",
   "mimetype": "text/x-python",
   "name": "python",
   "nbconvert_exporter": "python",
   "pygments_lexer": "ipython3",
   "version": "3.9.7"
  }
 },
 "nbformat": 4,
 "nbformat_minor": 5
}
