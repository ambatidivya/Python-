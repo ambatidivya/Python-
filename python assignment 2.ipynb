{
 "cells": [
  {
   "cell_type": "markdown",
   "id": "ff9238aa",
   "metadata": {},
   "source": [
    "#### 1.What are the two values of the Boolean data type? How do you write them?"
   ]
  },
  {
   "cell_type": "markdown",
   "id": "70b6e4e2",
   "metadata": {},
   "source": [
    "True and False are the two types of boolean data types. The value of True is indicated by 1 and False is indicated by 0. "
   ]
  },
  {
   "cell_type": "code",
   "execution_count": 20,
   "id": "5ea96278",
   "metadata": {},
   "outputs": [
    {
     "data": {
      "text/plain": [
       "False"
      ]
     },
     "execution_count": 20,
     "metadata": {},
     "output_type": "execute_result"
    }
   ],
   "source": [
    "bool(0)"
   ]
  },
  {
   "cell_type": "code",
   "execution_count": 4,
   "id": "a428f648",
   "metadata": {},
   "outputs": [
    {
     "data": {
      "text/plain": [
       "True"
      ]
     },
     "execution_count": 4,
     "metadata": {},
     "output_type": "execute_result"
    }
   ],
   "source": [
    "bool(1)"
   ]
  },
  {
   "cell_type": "markdown",
   "id": "c450a5e5",
   "metadata": {},
   "source": [
    "#### 2. What are the three different types of Boolean operators?"
   ]
  },
  {
   "cell_type": "markdown",
   "id": "0e6e1dd2",
   "metadata": {},
   "source": [
    "AND, OR, NOT are three different types of boolean operators. \n",
    "\n",
    "AND: The Boolean and operator returns False if any one of the inputs is False else returns True.\n",
    "\n",
    "OR: The Boolean or operator returns True if any one of the inputs is True else returns False.\n",
    "\n",
    "NOT: The Boolean Not operator only require one argument and returns the negatation of the argument i.e. returns the True for           False and False for True."
   ]
  },
  {
   "cell_type": "markdown",
   "id": "8050fd25",
   "metadata": {},
   "source": [
    "#### 3. Make a list of each Boolean operator&#39;s truth tables (i.e. every possible combination of Boolean values for the operator        and what it evaluate)"
   ]
  },
  {
   "cell_type": "markdown",
   "id": "04c84b2c",
   "metadata": {},
   "source": [
    "##### AND operator truth table:\n",
    "\n",
    "A    B    AND\n",
    "\n",
    "0    0    0\n",
    "\n",
    "0    1    0\n",
    "\n",
    "1    0    0\n",
    "\n",
    "1    1    1\n",
    "\n",
    "\n",
    "##### OR operator truth table: \n",
    "\n",
    "A    B    OR\n",
    "\n",
    "0    0    0\n",
    "\n",
    "0    1    1\n",
    "\n",
    "1    0    1\n",
    "\n",
    "1    1    1\n",
    "\n",
    "##### NOT operator truth table:\n",
    "\n",
    "A   NOT\n",
    "\n",
    "1    0\n",
    "\n",
    "0    1"
   ]
  },
  {
   "cell_type": "markdown",
   "id": "478d391a",
   "metadata": {},
   "source": [
    "#### 4. What are the values of the following expressions?\n"
   ]
  },
  {
   "cell_type": "code",
   "execution_count": 5,
   "id": "ec3593bc",
   "metadata": {},
   "outputs": [
    {
     "data": {
      "text/plain": [
       "False"
      ]
     },
     "execution_count": 5,
     "metadata": {},
     "output_type": "execute_result"
    }
   ],
   "source": [
    "(5 > 4) and (3 == 5)\n",
    "# T and F\n",
    "# F"
   ]
  },
  {
   "cell_type": "code",
   "execution_count": 6,
   "id": "9c649035",
   "metadata": {},
   "outputs": [
    {
     "data": {
      "text/plain": [
       "False"
      ]
     },
     "execution_count": 6,
     "metadata": {},
     "output_type": "execute_result"
    }
   ],
   "source": [
    "not (5 > 4)\n",
    "# not(T)\n",
    "# F"
   ]
  },
  {
   "cell_type": "code",
   "execution_count": 7,
   "id": "6fe39cd1",
   "metadata": {},
   "outputs": [
    {
     "data": {
      "text/plain": [
       "True"
      ]
     },
     "execution_count": 7,
     "metadata": {},
     "output_type": "execute_result"
    }
   ],
   "source": [
    "(5 > 4) or (3 == 5)\n",
    "# T or F\n",
    "# T"
   ]
  },
  {
   "cell_type": "code",
   "execution_count": 8,
   "id": "705080dd",
   "metadata": {},
   "outputs": [
    {
     "data": {
      "text/plain": [
       "False"
      ]
     },
     "execution_count": 8,
     "metadata": {},
     "output_type": "execute_result"
    }
   ],
   "source": [
    "not ((5 > 4) or (3 == 5))\n",
    "# not(T or F)\n",
    "# not(T)\n",
    "# F"
   ]
  },
  {
   "cell_type": "code",
   "execution_count": 9,
   "id": "783ee126",
   "metadata": {},
   "outputs": [
    {
     "data": {
      "text/plain": [
       "False"
      ]
     },
     "execution_count": 9,
     "metadata": {},
     "output_type": "execute_result"
    }
   ],
   "source": [
    "(True and True) and (True == False)\n",
    "# T and F\n",
    "# F"
   ]
  },
  {
   "cell_type": "code",
   "execution_count": 11,
   "id": "4615ff11",
   "metadata": {},
   "outputs": [
    {
     "data": {
      "text/plain": [
       "True"
      ]
     },
     "execution_count": 11,
     "metadata": {},
     "output_type": "execute_result"
    }
   ],
   "source": [
    "(not False) or (not True)\n",
    "# T or F\n",
    "# T"
   ]
  },
  {
   "cell_type": "markdown",
   "id": "80c35c00",
   "metadata": {},
   "source": [
    "#### 5. What are the six comparison operators?"
   ]
  },
  {
   "cell_type": "markdown",
   "id": "fed85667",
   "metadata": {},
   "source": [
    "six comparison operators in python are: \n",
    "\n",
    "Equal to operator (==)\n",
    "\n",
    "Not Equal to operator (!=)\n",
    "\n",
    "Greater than operator (>)\n",
    "\n",
    "Less than operator (<)\n",
    "\n",
    "Greater than equal to operator (>=)\n",
    "\n",
    "Less than equal to operator (<=)"
   ]
  },
  {
   "cell_type": "markdown",
   "id": "bf5e3545",
   "metadata": {},
   "source": [
    "#### 6. How do you tell the difference between the equal to and assignment operators? Describe a condition and when you would use one."
   ]
  },
  {
   "cell_type": "markdown",
   "id": "4bddb980",
   "metadata": {},
   "source": [
    "Equal to (==) operator checks whether the two given operands are equal or not. If they are equal, it returns true. Otherwise it returns false.\n",
    "\n",
    "Assignment operator (=) used to assign the value to the variable. \n",
    "\n",
    "example: in the below code, 10 is assigned to variable a and 5 is assigned to b. here we use assignment operator.\n",
    "\n",
    "in the if condition, we are checking, whether two operands a and b are equal or not. so here we equal to operator.\n",
    "\n"
   ]
  },
  {
   "cell_type": "code",
   "execution_count": 19,
   "id": "93b3906e",
   "metadata": {},
   "outputs": [
    {
     "name": "stdout",
     "output_type": "stream",
     "text": [
      "hai\n"
     ]
    }
   ],
   "source": [
    "a = 10  # assignment operator (=)\n",
    "b = 5\n",
    "if a == b: # equal to operator(==)\n",
    "    print(\"hello\")\n",
    "else:\n",
    "    print(\"hai\")"
   ]
  },
  {
   "cell_type": "markdown",
   "id": "2cf32ffb",
   "metadata": {},
   "source": [
    "#### 7. Identify the three blocks in this code:\n",
    "\n",
    "spam = 0\n",
    "\n",
    "if spam == 10:\n",
    "\n",
    "print('eggs')\n",
    "\n",
    "if spam > 5:\n",
    "\n",
    "print('bacon')\n",
    "\n",
    "else:\n",
    "\n",
    "print('ham')\n",
    "\n",
    "print('spam')\n",
    "\n",
    "print('spam')"
   ]
  },
  {
   "cell_type": "markdown",
   "id": "bb0ec0ef",
   "metadata": {},
   "source": [
    "One of the most distinctive features of python is the use of indentation to mark blocks of code. To indicate a block of code, we  must indent each line of the block by the same amount.\n",
    "\n",
    "In the above code, it has 3 blocks of code. in our example if--elif-else statements are 3 blocks "
   ]
  },
  {
   "cell_type": "code",
   "execution_count": 18,
   "id": "be801274",
   "metadata": {},
   "outputs": [
    {
     "name": "stdout",
     "output_type": "stream",
     "text": [
      "ham\n",
      "spam\n",
      "spam\n"
     ]
    }
   ],
   "source": [
    "spam = 0\n",
    "if spam == 10:\n",
    "    print(\"eggs\")\n",
    "if spam > 5:\n",
    "    print(\"bacon\")\n",
    "else:\n",
    "    print(\"ham\")\n",
    "    print(\"spam\")\n",
    "    print('spam')"
   ]
  },
  {
   "cell_type": "markdown",
   "id": "099d0685",
   "metadata": {},
   "source": [
    "#### 8. Write code that prints Hello if 1 is stored in spam, prints Howdy if 2 is stored in spam, and prints Greetings! if anything else is stored in spam."
   ]
  },
  {
   "cell_type": "code",
   "execution_count": 16,
   "id": "807516d1",
   "metadata": {},
   "outputs": [
    {
     "name": "stdout",
     "output_type": "stream",
     "text": [
      "enter the number:   1\n",
      "Hello\n"
     ]
    }
   ],
   "source": [
    "spam = int(input(\"enter the number:   \"))\n",
    "if spam == 1:\n",
    "    print(\"Hello\")\n",
    "elif spam == 2:\n",
    "    print(\"Howdy\")\n",
    "else:\n",
    "    print(\"Greetings\")"
   ]
  },
  {
   "cell_type": "code",
   "execution_count": null,
   "id": "68da26ea",
   "metadata": {},
   "outputs": [],
   "source": []
  }
 ],
 "metadata": {
  "kernelspec": {
   "display_name": "Python 3",
   "language": "python",
   "name": "python3"
  },
  "language_info": {
   "codemirror_mode": {
    "name": "ipython",
    "version": 3
   },
   "file_extension": ".py",
   "mimetype": "text/x-python",
   "name": "python",
   "nbconvert_exporter": "python",
   "pygments_lexer": "ipython3",
   "version": "3.8.8"
  }
 },
 "nbformat": 4,
 "nbformat_minor": 5
}
