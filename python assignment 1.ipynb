{
 "cells": [
  {
   "cell_type": "markdown",
   "id": "4f03841f",
   "metadata": {},
   "source": [
    "##### 1. In the below elements which of them are values or an expression? eg:- values can be integer or string and expressions will be mathematical operators.\n",
    "*\n",
    "\n",
    "&#39;hello&#39;\n",
    "\n",
    "-87.8\n",
    "\n",
    "-\n",
    "\n",
    "/\n",
    "\n",
    "+\n",
    "\n",
    "6"
   ]
  },
  {
   "cell_type": "markdown",
   "id": "f0fcb3bc",
   "metadata": {},
   "source": [
    "Answers: \n",
    "\n",
    "1. (*) is multiplication operator used in mathematical expression\n",
    "\n",
    "2.  'hello' is string\n",
    "\n",
    "3. -87.8 is an integer\n",
    "\n",
    "4. (-) is a substraction operator used in matematical expression\n",
    "\n",
    "5.  (/) is a division operator used in mathematical expression\n",
    "\n",
    "6.  (+) is a addition operator\n",
    " \n",
    "7.  6 is an integer."
   ]
  },
  {
   "cell_type": "markdown",
   "id": "23a4cfd7",
   "metadata": {},
   "source": [
    "##### 2. What is the difference between string and variable?"
   ]
  },
  {
   "cell_type": "markdown",
   "id": "fe3bdf11",
   "metadata": {},
   "source": [
    "String represents a sequence of characters (text) inside double or single quotes.\n",
    "\n",
    "Ex: 'abc', \"hello\"\n",
    "\n",
    "A variable is something that stores a value in a memory location. To a variable we can assign some value.\n",
    "\n",
    "ex: a = 2\n",
    "\n",
    "In above example, 'a' is variable and value 2 is assigned to it. It means the value 2 is stored in variable 'a'.\n",
    "\n",
    "\n"
   ]
  },
  {
   "cell_type": "markdown",
   "id": "b25314c3",
   "metadata": {},
   "source": [
    "##### 3. Describe three different data types."
   ]
  },
  {
   "cell_type": "markdown",
   "id": "f580970a",
   "metadata": {},
   "source": [
    "The basic data types are Numeric data types, boolean data types, string data type\n",
    "\n",
    "In Numeric, there will be again integer, floating point and complex data types, which are denoted as int(), float() and complex()\n",
    "\n",
    "Boolean data type is denoted as bool(), which returns the value True or False"
   ]
  },
  {
   "cell_type": "markdown",
   "id": "341861b1",
   "metadata": {},
   "source": [
    "#### 4. What is an expression made up of? What do all expressions do?"
   ]
  },
  {
   "cell_type": "markdown",
   "id": "004d48ec",
   "metadata": {},
   "source": [
    "An expression is combination of symbols like a variable, constants, and operators, representing a value. An expression must have at least one operand (variable or constant) and have one or more operators. After evaluating an expression, we get a value.\n",
    "\n",
    "Any string is an expression since it represents a value. If its a value, its an expression."
   ]
  },
  {
   "cell_type": "markdown",
   "id": "23925e70",
   "metadata": {},
   "source": [
    "##### 5. This assignment statements, like spam = 10. What is the difference between an expression and a statement?"
   ]
  },
  {
   "cell_type": "markdown",
   "id": "02875f47",
   "metadata": {},
   "source": [
    "A statement is an instruction that the Python interpreter can execute but it will not return any value.\n",
    "\n",
    "Ex: while statements, for statements, if statements.  \n",
    "\n",
    "An expression is a combination of values, variables, operators, and calls to functions. Expressions need to be evaluated. If we want to print an expression, the interpreter evaluates the expression and displays the result. It means there must be some return value. \n",
    "\n",
    "ex: print(), type() etc"
   ]
  },
  {
   "cell_type": "markdown",
   "id": "864729f7",
   "metadata": {},
   "source": [
    "##### 6. After running the following code, what does the variable bacon contain?\n",
    "bacon = 22\n",
    "\n",
    "bacon + 1"
   ]
  },
  {
   "cell_type": "markdown",
   "id": "25789b38",
   "metadata": {},
   "source": [
    "ANS: After executing this code, the output will, the bacon value will be 22.\n",
    "\n",
    "In next step,the bacon value is increased with 1, but the increased value is not again assigned to bacon. \n",
    "\n",
    "Thats the reason output bacon will be 22"
   ]
  },
  {
   "cell_type": "markdown",
   "id": "c9e2dd84",
   "metadata": {},
   "source": [
    "##### 7. What should the values of the following two terms be?\n",
    "'spam'+ 'spamspam'\n",
    "\n",
    "'spam' * 3"
   ]
  },
  {
   "cell_type": "markdown",
   "id": "4542e97b",
   "metadata": {},
   "source": [
    "ANS: \n",
    "\n",
    "'spam'+'spamspam' = 'spamspamspam' \n",
    "\n",
    "'spam' * 3 = 'spamspamspam'"
   ]
  },
  {
   "cell_type": "markdown",
   "id": "71388ed0",
   "metadata": {},
   "source": [
    "##### 8. Why is eggs a valid variable name while 100 is invalid?"
   ]
  },
  {
   "cell_type": "markdown",
   "id": "43c1d9c4",
   "metadata": {},
   "source": [
    "Variables are generally indicated with alphabetical characters and also underscore. It can be any number of alphabetical characters but it should not be any integer or any special characters except underscore _. \n",
    "\n",
    "so thats the reason, eggs are valid for variable name and not 100. \n",
    "\n",
    "ex: eggs = 54, we can assign a value to eggs\n",
    "\n",
    "_a = 100, \n",
    "\n",
    "but not like, 3 = 450"
   ]
  },
  {
   "cell_type": "markdown",
   "id": "734f1db4",
   "metadata": {},
   "source": [
    "##### 9. What three functions can be used to get the integer, floating-point number, or string version of a value?"
   ]
  },
  {
   "cell_type": "markdown",
   "id": "efd0a321",
   "metadata": {},
   "source": [
    "The function used to get integer of a value is int(). int() function returns an integer from a given object or converts into integer\n",
    "\n",
    "The function used to get floating point of a value is float(). using the float function any integer or string can be converted to decimal value or floating point.\n",
    "\n",
    "The function used to get string of a value is str(). using this function, we can convert any integer value to string."
   ]
  },
  {
   "cell_type": "markdown",
   "id": "8541138d",
   "metadata": {},
   "source": [
    "##### 10. Why does this expression cause an error? How can you fix it?\n",
    "&#39;I have eaten &#39; + 99 + &#39; burritos.&#39;"
   ]
  },
  {
   "cell_type": "markdown",
   "id": "c2597f9c",
   "metadata": {},
   "source": [
    "ANS:\n",
    "\n",
    "here ' i have eaten' is string type, 99 is integer type, 'burritos' is string type. The operator we are using is +. \n",
    "\n",
    "+ operator can be used two types, to do addition of two numbers, and to concatinate two strings\n",
    "\n",
    "but in the above line of code, two stings are concatinating with number. its not possible, thats the reason for error.\n",
    "\n",
    "Fixing: we can fix this error, by making number integer type 99 to string type.\n",
    "\n",
    "'I have eaten' + '99' + 'burritos'"
   ]
  }
 ],
 "metadata": {
  "kernelspec": {
   "display_name": "Python 3",
   "language": "python",
   "name": "python3"
  },
  "language_info": {
   "codemirror_mode": {
    "name": "ipython",
    "version": 3
   },
   "file_extension": ".py",
   "mimetype": "text/x-python",
   "name": "python",
   "nbconvert_exporter": "python",
   "pygments_lexer": "ipython3",
   "version": "3.8.8"
  }
 },
 "nbformat": 4,
 "nbformat_minor": 5
}
