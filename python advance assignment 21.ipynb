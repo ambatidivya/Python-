{
 "cells": [
  {
   "cell_type": "markdown",
   "id": "b35a2959",
   "metadata": {},
   "source": [
    "#### Q1. What is a probability distribution, exactly? If the values are meant to be random, how can you predict them at all?"
   ]
  },
  {
   "cell_type": "markdown",
   "id": "6f30da75",
   "metadata": {},
   "source": [
    "A probability distribution is a mathematical function that describes the likelihood of obtaining the possible values for an event. A probability distribution may be either discrete or continuous. A discrete distribution is one in which the data can only take on certain values, while a continuous distribution is one in which data can take on any value within a specified range (which may be infinite).\n",
    "\n"
   ]
  },
  {
   "cell_type": "markdown",
   "id": "accfe5e9",
   "metadata": {},
   "source": [
    "#### Q2. Is there a distinction between true random numbers and pseudo-random numbers, if there is one? Why are the latter considered “good enough”?"
   ]
  },
  {
   "cell_type": "markdown",
   "id": "6f3d6747",
   "metadata": {},
   "source": [
    "Pseudo random numbers have fast response in generating numbers while true random have slow response. \n",
    "\n",
    "In pseudo random number, sequence of numbers can be reproduced where as In true random number, sequence of numbers can't be reproduced. \n",
    "\n",
    "Compared to True Random Number Generators, Pseudo-RandomNumber Generators can be generated with very fast calculations.They are easier to debug and test due to its cyclic nature, it requireslow memory and no external hardware is required. Lastly, this makesPseudo-Random Number Generators cost efficient and scalable."
   ]
  },
  {
   "cell_type": "markdown",
   "id": "d9372d5b",
   "metadata": {},
   "source": [
    "#### Q3. What are the two main factors that influence the behaviour of a &quot;normal&quot; probability distribution?"
   ]
  },
  {
   "cell_type": "markdown",
   "id": "24cb1c34",
   "metadata": {},
   "source": [
    "The two main parameters of a normal distribution are the mean and standard deviation. The parameters determine the shape and probabilities of the distribution. The shape of the distribution changes as the parameter values change.\n",
    "\n"
   ]
  },
  {
   "cell_type": "markdown",
   "id": "a8daccb3",
   "metadata": {},
   "source": [
    "#### Q4. Provide a real-life example of a normal distribution."
   ]
  },
  {
   "cell_type": "markdown",
   "id": "aa0644b1",
   "metadata": {},
   "source": [
    "1. Height of the population is the example of normal distribution. \n",
    "\n",
    "Most of the people in a specific population are of average height. The number of people taller and shorter than the average height people is almost equal, and a very small number of people are either extremely tall or extremely short. However, height is not a single characteristic, several genetic and environmental factors influence height. Therefore, it follows the normal distribution.\n",
    "\n",
    "2. Rolling a dice\n",
    "\n",
    "3. Tossing a coin"
   ]
  },
  {
   "cell_type": "markdown",
   "id": "654d49e2",
   "metadata": {},
   "source": [
    "#### Q5. In the short term, how can you expect a probability distribution to behave? What do you think will happen as the number of trials grows?"
   ]
  },
  {
   "cell_type": "markdown",
   "id": "55365774",
   "metadata": {},
   "source": [
    "Probability distributions are statistical functions that describe the likelihood of obtaining possible values that a random variable can take. In other words, the values of the variable vary based on the underlying probability distribution.\n",
    "\n",
    "Consider a series of independent trials, each having one of two possible outcomes, success or failure. Let p be the probability of success. Define random variable X to be the trial at which the first success occurs. In general, the number of trials could go on forever. There must be at least one trial."
   ]
  },
  {
   "cell_type": "markdown",
   "id": "9901810a",
   "metadata": {},
   "source": [
    "#### Q6. What kind of object can be shuffled by using random.shuffle?"
   ]
  },
  {
   "cell_type": "markdown",
   "id": "47587b8a",
   "metadata": {},
   "source": [
    "shuffle() is an inbuilt method of the random module. It is used to shuffle a sequence (list). Shuffling means changing the position of the elements of the sequence\n",
    "\n",
    "random.shuffle(sequence, function)\n",
    "\n",
    "sequence can be a list , function can be optional and by default is random(). It should return a value between 0 and 1.\n",
    "\n",
    "The shuffle() method cannot be used to shuffle immutable datatypes like strings."
   ]
  },
  {
   "cell_type": "code",
   "execution_count": 6,
   "id": "28f7d5f9",
   "metadata": {},
   "outputs": [
    {
     "name": "stdout",
     "output_type": "stream",
     "text": [
      "Original list :  ['A', 'B', 'C', 'D', 'E']\n",
      "\n",
      "After the first shuffle :  ['B', 'D', 'E', 'C', 'A']\n",
      "\n",
      "After the second shuffle : \n",
      "['C', 'D', 'A', 'E', 'B']\n"
     ]
    }
   ],
   "source": [
    "import random\n",
    " \n",
    "# declare a list\n",
    "list = ['A', 'B', 'C', 'D', 'E']\n",
    " \n",
    "print(\"Original list : \", list)\n",
    " \n",
    "# first shuffle\n",
    "random.shuffle(list)\n",
    "print(\"\\nAfter the first shuffle : \", list)\n",
    "\n",
    "# second shuffle\n",
    "random.shuffle(list)\n",
    "print(\"\\nAfter the second shuffle : \", list)\n"
   ]
  },
  {
   "cell_type": "markdown",
   "id": "9fccbe1c",
   "metadata": {},
   "source": [
    "#### Q7. Describe the math package&#39;s general categories of functions."
   ]
  },
  {
   "cell_type": "markdown",
   "id": "c9f82e7b",
   "metadata": {},
   "source": [
    "In Python, Math functions are a collection of pre-defined mathematical actions with generic implicit values that can be directly fetched for the mathematical operations in the program. There are several such math functions,\n",
    "\n",
    "1. Constants : like pi returns 3.141592 , E returns 0.718282\n",
    "2. logarithmic functions : like exp(x), log2(x)\n",
    "3. Numeric functions : like factorial(x), isinf(x), remainder(x, y)\n",
    "4. trignometric functions : like sin(x), cos(x), tanx(x)\n",
    "\n"
   ]
  },
  {
   "cell_type": "markdown",
   "id": "fc7efddf",
   "metadata": {},
   "source": [
    "#### Q8. What is the relationship between exponentiation and logarithms?"
   ]
  },
  {
   "cell_type": "markdown",
   "id": "cc65cb3a",
   "metadata": {},
   "source": [
    "The logarithmic and exponential systems both have mutual direct relationship mathematically. The logarithm is an inverse operation of exponentiation.\n",
    "\n",
    "Example:\n",
    "The number 9 is a quantity and it can be expressed in exponential form by the exponentiation.\n",
    "\n",
    "9 = 3 x 3 ------ 9 = 3**2\n",
    "\n",
    "In this case, 3 is a quantity and 2 is the number of its multiplying factors. The inverse operation of 9 = 3**2  is written in logarithmic form.\n",
    "\n",
    "log3(9) = 2\n",
    "\n",
    "The logarithmic system represents that the number of multiplying factors is 2 when the quantity 9 is written as multiplying factors on the basis of number 3.\n",
    "\n",
    "The mutual inverse mathematical relationship between exponential and logarithmic systems is written in mathematics as follows.\n",
    "\n",
    "9 = 3**2 <---> log3(9) = 2\n",
    "  "
   ]
  },
  {
   "cell_type": "markdown",
   "id": "3ce23ab7",
   "metadata": {},
   "source": [
    "#### 9. What are the three logarithmic functions that Python supports?"
   ]
  },
  {
   "cell_type": "markdown",
   "id": "50af0179",
   "metadata": {},
   "source": [
    "Python offers many inbuild logarithmic functions under the module “math” which allows us to compute logs using a single line. There are 4 variants of logarithmic functions\n",
    "\n",
    "1. log2(x) This function is used to compute the logarithm base 2 of x.\n",
    "\n",
    "2. log(x, Base) : The math.log(x,Base) function calculates the logarithmic value of x i.e. numeric expression for a particular (desired) base value.\n",
    "\n",
    "3. log10(x) This function is used to compute the logarithm base 10 of x\n",
    "\n",
    "4. log1p(x) This function is used to compute logarithm(1+a)"
   ]
  },
  {
   "cell_type": "code",
   "execution_count": 1,
   "id": "30fadcaa",
   "metadata": {},
   "outputs": [
    {
     "name": "stdout",
     "output_type": "stream",
     "text": [
      "Log value for base 2: \n",
      "3.321928094887362\n"
     ]
    }
   ],
   "source": [
    "# log2(x) -- log base 2\n",
    "\n",
    "import math \n",
    " \n",
    "print (\"Log value for base 2: \") \n",
    "print (math.log2(10))"
   ]
  },
  {
   "cell_type": "code",
   "execution_count": 2,
   "id": "bfba3841",
   "metadata": {},
   "outputs": [
    {
     "name": "stdout",
     "output_type": "stream",
     "text": [
      "2.1609640474436813\n"
     ]
    }
   ],
   "source": [
    "# log(x,Base)\n",
    "\n",
    "print (\"Log value for base 4: \") \n",
    "print (math.log(20,4))\n"
   ]
  },
  {
   "cell_type": "code",
   "execution_count": 3,
   "id": "1e5be813",
   "metadata": {},
   "outputs": [
    {
     "name": "stdout",
     "output_type": "stream",
     "text": [
      "Logarithm base 10 of 14 is : \n",
      "1.146128035678238\n"
     ]
    }
   ],
   "source": [
    "# log10(x)\n",
    "\n",
    "print (\"Logarithm base 10 of 14 is : \")\n",
    "print (math.log10(14))"
   ]
  },
  {
   "cell_type": "code",
   "execution_count": 4,
   "id": "0570a9f9",
   "metadata": {},
   "outputs": [
    {
     "name": "stdout",
     "output_type": "stream",
     "text": [
      "Logarithm(1+a) value of 14 is : 2.70805020110221\n"
     ]
    }
   ],
   "source": [
    "# log1p(x)\n",
    "\n",
    "print (\"Logarithm(1+a) value of 14 is : \", end=\"\")\n",
    "print (math.log1p(14))"
   ]
  },
  {
   "cell_type": "code",
   "execution_count": null,
   "id": "e65bd553",
   "metadata": {},
   "outputs": [],
   "source": []
  }
 ],
 "metadata": {
  "kernelspec": {
   "display_name": "Python 3 (ipykernel)",
   "language": "python",
   "name": "python3"
  },
  "language_info": {
   "codemirror_mode": {
    "name": "ipython",
    "version": 3
   },
   "file_extension": ".py",
   "mimetype": "text/x-python",
   "name": "python",
   "nbconvert_exporter": "python",
   "pygments_lexer": "ipython3",
   "version": "3.9.7"
  }
 },
 "nbformat": 4,
 "nbformat_minor": 5
}
