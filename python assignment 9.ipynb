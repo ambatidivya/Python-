{
 "cells": [
  {
   "cell_type": "markdown",
   "id": "c0998157",
   "metadata": {},
   "source": [
    "#### 1. To what does a relative path refer?"
   ]
  },
  {
   "cell_type": "markdown",
   "id": "587a2fc7",
   "metadata": {},
   "source": [
    "A relative path refers to a location that is relative to a current directory. Relative paths make use of two special symbols, a dot (.) and a double-dot (..)"
   ]
  },
  {
   "cell_type": "markdown",
   "id": "b1da481a",
   "metadata": {},
   "source": [
    "#### 2. What does an absolute path start with your operating system?"
   ]
  },
  {
   "cell_type": "markdown",
   "id": "e9597ebc",
   "metadata": {},
   "source": [
    "An absolute path always begins with the root folder"
   ]
  },
  {
   "cell_type": "markdown",
   "id": "6bbbe84c",
   "metadata": {},
   "source": [
    "#### 3. What do the functions os.getcwd() and os.chdir() do"
   ]
  },
  {
   "cell_type": "markdown",
   "id": "9eeec28e",
   "metadata": {},
   "source": [
    "In Python, you can get and change (set) the current working directory with os.getcwd() and os.chdir().\n",
    "\n",
    "os.getcwd() tells us the location of current working directory. This method returns a string which represents the absolute path of current working directory. getcwd stands for \"get current working directory\"\n",
    "\n",
    "os.chdir() method in Python used to change the current working directory to specified path. It takes only a single argument as new directory path. It doesn’t return any value. It can be absolute or relative. Use '../' to move up."
   ]
  },
  {
   "cell_type": "markdown",
   "id": "cd98ea0a",
   "metadata": {},
   "source": [
    "#### 4. What are the . and .. folders?"
   ]
  },
  {
   "cell_type": "markdown",
   "id": "5a8328b9",
   "metadata": {},
   "source": [
    "A dot (.) and a double-dot (..), translate into the current directory and the parent directory. Double dots are used for moving up in the hierarchy. A single dot represents the current directory itself and double dot represents its parent folder"
   ]
  },
  {
   "cell_type": "markdown",
   "id": "67b2aa17",
   "metadata": {},
   "source": [
    "#### 5. In C:\\bacon\\eggs\\spam.txt, which part is the dir name, and which part is the base name?"
   ]
  },
  {
   "cell_type": "markdown",
   "id": "556d69dc",
   "metadata": {},
   "source": [
    "The base name follows the last slash in a path and is the same as the filename. The dir name is everything before the last slash.\n",
    "\n",
    "spam.txt is the base name and C:\\bacon\\eggs\\ is the dir name\n",
    "\n"
   ]
  },
  {
   "cell_type": "markdown",
   "id": "a8e61d98",
   "metadata": {},
   "source": [
    "#### 6. What are the three “mode” arguments that can be passed to the open() function?"
   ]
  },
  {
   "cell_type": "markdown",
   "id": "f7ade4b6",
   "metadata": {},
   "source": [
    "The open() function opens the file and returns the corresponding file object.\n",
    "\n",
    "'r', (Read mode) is the default mode for files you open\n",
    "\n",
    "'w', (write mode) Open a file for writing. Creates a new file if it does not exist or truncates the file if it exists.\n",
    "\n",
    "'a', Open for appending at the end of the file without truncating it. Creates a new file if it does not exist.\n",
    "\n",
    "'+' Open a file for updating (reading and writing)"
   ]
  },
  {
   "cell_type": "markdown",
   "id": "573f297d",
   "metadata": {},
   "source": [
    "#### 7. What happens if an existing file is opened in write mode?"
   ]
  },
  {
   "cell_type": "markdown",
   "id": "b038abc2",
   "metadata": {},
   "source": [
    "If a file with the same name already exists, its contents are discarded and the file is treated as a new empty file"
   ]
  },
  {
   "cell_type": "markdown",
   "id": "5d65e306",
   "metadata": {},
   "source": [
    "#### 8. How do you tell the difference between read() and readlines()?"
   ]
  },
  {
   "cell_type": "markdown",
   "id": "97f7319c",
   "metadata": {},
   "source": [
    "read(): This method reads and returns a string of n characters, or the entire file as a single string if n is not provided.\n",
    "\n",
    "readlines(): this method will read the entire content of the file at a time and stores it in the list. Returns a list of strings, each representing a single line of the file. If n is not provided then all lines of the file are returned. If n is provided then n characters are read but n is rounded up so that an entire line is returned.\n",
    "\n",
    "\n",
    "\n",
    "    "
   ]
  },
  {
   "cell_type": "markdown",
   "id": "eb141212",
   "metadata": {},
   "source": [
    "#### 9. What data structure does a shelf value resemble?"
   ]
  },
  {
   "cell_type": "markdown",
   "id": "c120bdf8",
   "metadata": {},
   "source": [
    "A shelf value resembles a dictionary value; it has keys and values, along with keys() and values() methods that work similarly to the dictionary methods of the same names."
   ]
  },
  {
   "cell_type": "code",
   "execution_count": null,
   "id": "428a0617",
   "metadata": {},
   "outputs": [],
   "source": []
  }
 ],
 "metadata": {
  "kernelspec": {
   "display_name": "Python 3",
   "language": "python",
   "name": "python3"
  },
  "language_info": {
   "codemirror_mode": {
    "name": "ipython",
    "version": 3
   },
   "file_extension": ".py",
   "mimetype": "text/x-python",
   "name": "python",
   "nbconvert_exporter": "python",
   "pygments_lexer": "ipython3",
   "version": "3.8.8"
  }
 },
 "nbformat": 4,
 "nbformat_minor": 5
}
