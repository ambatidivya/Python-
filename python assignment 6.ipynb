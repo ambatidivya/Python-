{
 "cells": [
  {
   "cell_type": "markdown",
   "id": "9fd4d44f",
   "metadata": {},
   "source": [
    "#### 1. What are escape characters, and how do you use them?"
   ]
  },
  {
   "cell_type": "markdown",
   "id": "2bc6dbce",
   "metadata": {},
   "source": [
    "Escape character is the standard backslach. To insert characters that are illegal in a string, use an escape character. "
   ]
  },
  {
   "cell_type": "markdown",
   "id": "b309bd01",
   "metadata": {},
   "source": [
    "#### 2. What do the escape characters n and t stand for?"
   ]
  },
  {
   "cell_type": "markdown",
   "id": "c1949ce4",
   "metadata": {},
   "source": [
    "\\n stands for new line and \\t stands for tab"
   ]
  },
  {
   "cell_type": "markdown",
   "id": "3ea28f57",
   "metadata": {},
   "source": [
    "#### 3. What is the way to include backslash characters in a string?"
   ]
  },
  {
   "cell_type": "markdown",
   "id": "589cbc18",
   "metadata": {},
   "source": [
    "If you want to include a backslash character itself, you need two backslashes \" \\\\ \" "
   ]
  },
  {
   "cell_type": "markdown",
   "id": "e44db3ad",
   "metadata": {},
   "source": [
    "#### 4. The string &quot;Howl&#39;s Moving Castle&quot; is a correct value. Why isn&#39;t the single quote character in the word Howl&#39;s not escaped a problem?"
   ]
  },
  {
   "cell_type": "markdown",
   "id": "82aa7f2b",
   "metadata": {},
   "source": [
    "The single quote character in Howl's is not escaped because we have used double quotes to mark the beginning and end of the string.\n",
    "\n"
   ]
  },
  {
   "cell_type": "markdown",
   "id": "0eac9fcf",
   "metadata": {},
   "source": [
    "#### 5. How do you write a string of newlines if you don&#39;t want to use the n character?"
   ]
  },
  {
   "cell_type": "markdown",
   "id": "fc784139",
   "metadata": {},
   "source": [
    "Multiline strings allow you to use newlines in strings without the \\n escape character.\n",
    "\n",
    "we can use the parameter end ='\\n' in print function"
   ]
  },
  {
   "cell_type": "markdown",
   "id": "1f9eed4f",
   "metadata": {},
   "source": [
    "#### 6. What are the values of the given expressions?\n",
    "\n",
    "###### &#39;Hello, world!&#39;[1]\n",
    "\n",
    "###### &#39;Hello, world!&#39;[0:5]\n",
    "\n",
    "###### &#39;Hello, world!&#39;[:5]\n",
    "\n",
    "###### &#39;Hello, world!&#39;[3:]"
   ]
  },
  {
   "cell_type": "markdown",
   "id": "1715703f",
   "metadata": {},
   "source": [
    "#### Answers:\n",
    "\n",
    "'Hello world!'[1]  -------  e\n",
    "\n",
    "'Hello world!'[0:5] ------  Hello\n",
    "\n",
    "'Hello world!'[:5] -------  Hello\n",
    "\n",
    "'Hello world!'[3:] -------  lo world!"
   ]
  },
  {
   "cell_type": "markdown",
   "id": "dadf8bcb",
   "metadata": {},
   "source": [
    "#### 7. What are the values of the following expressions?\n",
    "\n",
    "##### &#39;Hello&#39;.upper()\n",
    "\n",
    "##### &#39;Hello&#39;.upper().isupper()\n",
    "\n",
    "##### &#39;Hello&#39;.upper().lower()"
   ]
  },
  {
   "cell_type": "markdown",
   "id": "b5d2a30d",
   "metadata": {},
   "source": [
    "#### Answers:\n",
    "\n",
    "&#39;Hello&#39;.upper() -------  HELLO\n",
    "\n",
    "&#39;Hello&#39;.upper().isupper() ------- True\n",
    "\n",
    "&#39;Hello&#39;.upper().lower()  ---------  hello"
   ]
  },
  {
   "cell_type": "markdown",
   "id": "dcf3ab01",
   "metadata": {},
   "source": [
    "#### 8. What are the values of the following expressions?\n",
    "\n",
    "###### &#39;Remember, remember, the fifth of July.&#39;.split()\n",
    "\n",
    "###### &#39;-&#39;.join(&#39;There can only one.&#39;.split())"
   ]
  },
  {
   "cell_type": "markdown",
   "id": "5bbcb659",
   "metadata": {},
   "source": [
    "#### Answers:\n",
    "\n",
    "'Remember, remember, the fifth of July.'.split()  ------ ['Remember', 'remember', 'the', 'fifth', 'of', 'July']\n",
    "\n",
    "'-'.join('There can only one.'.split()) -------- 'There-can-only-one.'"
   ]
  },
  {
   "cell_type": "markdown",
   "id": "3a243b31",
   "metadata": {},
   "source": [
    "#### 9. What are the methods for right-justifying, left-justifying, and centering a string?"
   ]
  },
  {
   "cell_type": "markdown",
   "id": "ba6f2df9",
   "metadata": {},
   "source": [
    "ljust(): It returns the string left justified in a string of length width. Padding is done using the specified fillchar (default is a space). The original string is returned if width is less than len(s).\n",
    "\n",
    "       str.ljust(width[, fillchar])\n",
    "\n",
    "rjust(): It returns the string right justified in a string of length width. \n",
    "\n",
    "rcenter(): It returns the string center justified in a string of length width. \n"
   ]
  },
  {
   "cell_type": "code",
   "execution_count": 12,
   "id": "355dde7b",
   "metadata": {},
   "outputs": [
    {
     "data": {
      "text/plain": [
       "'Hello*****'"
      ]
     },
     "execution_count": 12,
     "metadata": {},
     "output_type": "execute_result"
    }
   ],
   "source": [
    "# left justify\n",
    "s = \"Hello\"\n",
    "s.ljust(10, '*')"
   ]
  },
  {
   "cell_type": "code",
   "execution_count": 13,
   "id": "8842223e",
   "metadata": {},
   "outputs": [
    {
     "data": {
      "text/plain": [
       "'*****Hello'"
      ]
     },
     "execution_count": 13,
     "metadata": {},
     "output_type": "execute_result"
    }
   ],
   "source": [
    "# right justify\n",
    "s.rjust(10, '*')"
   ]
  },
  {
   "cell_type": "code",
   "execution_count": 14,
   "id": "cde97c11",
   "metadata": {},
   "outputs": [
    {
     "data": {
      "text/plain": [
       "'**Hello***'"
      ]
     },
     "execution_count": 14,
     "metadata": {},
     "output_type": "execute_result"
    }
   ],
   "source": [
    "# center justify\n",
    "s.center(10,'*')"
   ]
  },
  {
   "cell_type": "markdown",
   "id": "dceabc52",
   "metadata": {},
   "source": [
    "#### 10. What is the best way to remove whitespace characters from the start or end?"
   ]
  },
  {
   "cell_type": "markdown",
   "id": "25a49e1e",
   "metadata": {},
   "source": [
    "lstrip() and rstrip() are the methods which remove left and right whitespaces respectively."
   ]
  },
  {
   "cell_type": "code",
   "execution_count": 16,
   "id": "d899ff61",
   "metadata": {},
   "outputs": [
    {
     "data": {
      "text/plain": [
       "'hello world!'"
      ]
     },
     "execution_count": 16,
     "metadata": {},
     "output_type": "execute_result"
    }
   ],
   "source": [
    "# method to remove left whitespace\n",
    "s = \"    hello world!\"\n",
    "s.lstrip()"
   ]
  },
  {
   "cell_type": "code",
   "execution_count": 17,
   "id": "e3417f76",
   "metadata": {},
   "outputs": [
    {
     "data": {
      "text/plain": [
       "'    hello world!'"
      ]
     },
     "execution_count": 17,
     "metadata": {},
     "output_type": "execute_result"
    }
   ],
   "source": [
    "# method to remove right whitespace\n",
    "s = \"    hello world!      \"\n",
    "s.rstrip()"
   ]
  },
  {
   "cell_type": "code",
   "execution_count": null,
   "id": "f93a6ca4",
   "metadata": {},
   "outputs": [],
   "source": []
  }
 ],
 "metadata": {
  "kernelspec": {
   "display_name": "Python 3",
   "language": "python",
   "name": "python3"
  },
  "language_info": {
   "codemirror_mode": {
    "name": "ipython",
    "version": 3
   },
   "file_extension": ".py",
   "mimetype": "text/x-python",
   "name": "python",
   "nbconvert_exporter": "python",
   "pygments_lexer": "ipython3",
   "version": "3.8.8"
  }
 },
 "nbformat": 4,
 "nbformat_minor": 5
}
