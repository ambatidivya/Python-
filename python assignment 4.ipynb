{
 "cells": [
  {
   "cell_type": "markdown",
   "id": "a8e5f100",
   "metadata": {},
   "source": []
  },
  {
   "cell_type": "markdown",
   "id": "ca3af46f",
   "metadata": {},
   "source": [
    "#### 1. What exactly is [ ]?\n"
   ]
  },
  {
   "cell_type": "markdown",
   "id": "3e51910c",
   "metadata": {},
   "source": [
    "Generally String represents a sequence of characters (text) inside double or single quotes.[] is an empty string. "
   ]
  },
  {
   "cell_type": "markdown",
   "id": "a7dfd01e",
   "metadata": {},
   "source": [
    "#### 2. In a list of values stored in a variable called spam, how would you assign the value &#39;hello&#39; as the third value? (Assume [2, 4, 6, 8, 10] are in spam.)"
   ]
  },
  {
   "cell_type": "markdown",
   "id": "dab7d644",
   "metadata": {},
   "source": [
    "spam = [2,4,6,8,10]"
   ]
  },
  {
   "cell_type": "markdown",
   "id": "d581b340",
   "metadata": {},
   "source": [
    "spam[2] = 'hello' we can assign directly the third value in the list as hello. the third value is the 2nd index position."
   ]
  },
  {
   "cell_type": "markdown",
   "id": "1507147a",
   "metadata": {},
   "source": [
    "Then output spam will look like [2,4,'hello',8,10]"
   ]
  },
  {
   "cell_type": "markdown",
   "id": "1cc44b50",
   "metadata": {},
   "source": [
    "### Let's pretend the spam includes the list ['a', 'b', 'c', 'd'] for the next three queries."
   ]
  },
  {
   "cell_type": "markdown",
   "id": "fbe34d32",
   "metadata": {},
   "source": [
    "##### 3. What is the value of spam[int(int('3' * 2) / 11)]?"
   ]
  },
  {
   "cell_type": "markdown",
   "id": "9981c348",
   "metadata": {},
   "source": [
    "spam = ['a','b','c', 'd']\n",
    "\n",
    "spam[int(int('3' * 2) / 11)] \n",
    "\n",
    "('3' * 2) = '33'   here 3 is string, when string * integer = integer times string\n",
    "\n",
    "int('33) = 33\n",
    "\n",
    "spam[int(33/11)] \n",
    "\n",
    "spam[int(3)]\n",
    "\n",
    "spam[3]\n",
    "\n",
    "'d'\n",
    "\n",
    "so the value of spam[int(int('3' * 2) / 11)] is 'd'"
   ]
  },
  {
   "cell_type": "markdown",
   "id": "92728b19",
   "metadata": {},
   "source": [
    "##### 4. What is the value of spam[-1]?"
   ]
  },
  {
   "cell_type": "markdown",
   "id": "d652e62e",
   "metadata": {},
   "source": [
    "'d'"
   ]
  },
  {
   "cell_type": "markdown",
   "id": "835511ff",
   "metadata": {},
   "source": [
    "##### 5. What is the value of spam[:2]?"
   ]
  },
  {
   "cell_type": "markdown",
   "id": "917499b9",
   "metadata": {},
   "source": [
    "['a', 'b']"
   ]
  },
  {
   "cell_type": "markdown",
   "id": "1db7dff9",
   "metadata": {},
   "source": [
    "### Let's pretend bacon has the list [3.14, 'cat', 11, 'cat', True] for the next three questions"
   ]
  },
  {
   "cell_type": "markdown",
   "id": "62f5305f",
   "metadata": {},
   "source": [
    "##### 6. What is the value of bacon.index('cat')?"
   ]
  },
  {
   "cell_type": "markdown",
   "id": "ef03db22",
   "metadata": {},
   "source": [
    "The index function indicates the postion of the values in the list. \n",
    "\n",
    "so the value of  bacon.index('cat') is 1\n",
    "\n",
    "Here the 'cat' is occured 2 times in list. the index function considers first occurance of 'cat' postion. so the index of first 'cat' is 1"
   ]
  },
  {
   "cell_type": "markdown",
   "id": "3304ef30",
   "metadata": {},
   "source": [
    "##### 7. How does bacon.append(99) change the look of the list value in bacon?"
   ]
  },
  {
   "cell_type": "markdown",
   "id": "ddca3bca",
   "metadata": {},
   "source": [
    "the append function, appends the specific value at the end of the list. \n",
    "\n",
    "so bacon.append(99), the value 99 will be added at the last index position of the list. so the output looks like\n",
    "\n",
    "[3.14, 'cat', 11, 'cat', True, 99]"
   ]
  },
  {
   "cell_type": "markdown",
   "id": "f6c927db",
   "metadata": {},
   "source": [
    "##### 8. How does bacon.remove('cat') change the look of the list in bacon?"
   ]
  },
  {
   "cell_type": "markdown",
   "id": "87c04335",
   "metadata": {},
   "source": [
    "The remove function deletes a specific values in the list. If that particular value is occured two times in the list, then the first occured value will be deleted.\n",
    "\n",
    "so bacon.remove('cat') output is \n",
    "\n",
    "[3.14, 11, 'cat', True]"
   ]
  },
  {
   "cell_type": "markdown",
   "id": "beceafaf",
   "metadata": {},
   "source": [
    "#### 9. What are the list concatenation and list replication operators?"
   ]
  },
  {
   "cell_type": "markdown",
   "id": "8cb2f524",
   "metadata": {},
   "source": [
    "Concatenation:\n",
    "The addition operator + is also known as a concatenation operator when applied on two python strings. Concatenation is done by + operator. Concatenation is supported by sequence data types(string, list, tuple). Concatenation is done between the same data types only.\n",
    "\n",
    "so list concatenation operator is +\n",
    "\n",
    "Replication: \n",
    "The multiplication operator acts as a replication operator when we have one string and one integer as operands. The replication operator produces the n number of copies of a string, n may be any integer.\n",
    "\n",
    "string * integer \n",
    "\n",
    "integer * string\n",
    "\n",
    "When * is used with an integer it performs multiplication but with list, tuple or strings it performs a repetition.\n"
   ]
  },
  {
   "cell_type": "markdown",
   "id": "03b30ca4",
   "metadata": {},
   "source": [
    "#### 10. What is difference between the list methods append() and insert()?"
   ]
  },
  {
   "cell_type": "markdown",
   "id": "0da5aaed",
   "metadata": {},
   "source": [
    "Lists are mutable, and hence, they can be altered even after their creation.\n",
    "\n",
    "Append: \n",
    "It adds an element at the end of the list. The argument passed in the append function is added as a single element at end of the list and the length of the list is increased by 1.\n",
    "\n",
    "Insert:\n",
    "This method can be used to insert a value at any desired position. It takes two arguments-element and the index at which the element has to be inserted."
   ]
  },
  {
   "cell_type": "markdown",
   "id": "cf575980",
   "metadata": {},
   "source": [
    "#### 11. What are the two methods for removing items from a list?"
   ]
  },
  {
   "cell_type": "markdown",
   "id": "ea1d91ec",
   "metadata": {},
   "source": [
    "Python Lists have various in-built methods to remove items from the list. We can use some methods for removing items in list. del statement, remove() , pop() and clear().\n",
    "\n",
    "1. Using del statement:\n",
    "The del statement is not a function of List. Items of the list can be deleted using del statement by specifying the index of item (element) to be deleted.\n",
    "\n",
    "ex: del l[3]\n",
    "\n",
    "2. Using remove():\n",
    "We can remove an item from the list by passing the value of the item to be deleted. If there are any duplicates,it removes the first item matching a value.\n",
    "\n",
    "ex: l.remove(\"xyz\")\n",
    "\n",
    "3. pop(): It removes an item at an index position and returns it. By default it deletes the last index position element.\n"
   ]
  },
  {
   "cell_type": "code",
   "execution_count": 18,
   "id": "77433e1c",
   "metadata": {},
   "outputs": [
    {
     "data": {
      "text/plain": [
       "[4, 'xyz', 567, 'abc', 100]"
      ]
     },
     "execution_count": 18,
     "metadata": {},
     "output_type": "execute_result"
    }
   ],
   "source": [
    "l = [4,8,\"xyz\",567, \"abc\", 100]\n",
    "del l[1]\n",
    "l\n"
   ]
  },
  {
   "cell_type": "code",
   "execution_count": 19,
   "id": "68e85691",
   "metadata": {},
   "outputs": [
    {
     "data": {
      "text/plain": [
       "[4, 567, 'abc', 100]"
      ]
     },
     "execution_count": 19,
     "metadata": {},
     "output_type": "execute_result"
    }
   ],
   "source": [
    "# remove method\n",
    "l.remove(\"xyz\")\n",
    "l"
   ]
  },
  {
   "cell_type": "code",
   "execution_count": 20,
   "id": "ca0fa5db",
   "metadata": {},
   "outputs": [
    {
     "data": {
      "text/plain": [
       "100"
      ]
     },
     "execution_count": 20,
     "metadata": {},
     "output_type": "execute_result"
    }
   ],
   "source": [
    "# pop method\n",
    "l.pop()"
   ]
  },
  {
   "cell_type": "code",
   "execution_count": 21,
   "id": "59312f28",
   "metadata": {},
   "outputs": [
    {
     "data": {
      "text/plain": [
       "[4, 567, 'abc']"
      ]
     },
     "execution_count": 21,
     "metadata": {},
     "output_type": "execute_result"
    }
   ],
   "source": [
    "l"
   ]
  },
  {
   "cell_type": "code",
   "execution_count": null,
   "id": "43ee1572",
   "metadata": {},
   "outputs": [],
   "source": []
  },
  {
   "cell_type": "markdown",
   "id": "59e3d0e6",
   "metadata": {},
   "source": [
    "#### 12. Describe how list values and string values are identical."
   ]
  },
  {
   "cell_type": "markdown",
   "id": "214622a0",
   "metadata": {},
   "source": [
    "Both lists and strings can be passed to len()\n",
    "\n",
    "They both have indexes and slices\n",
    "\n",
    "Can be used in for loops\n",
    "\n",
    "Can be concatenated or replicated\n",
    "\n",
    "Can be used with the in and not in operators"
   ]
  },
  {
   "cell_type": "markdown",
   "id": "35a817ac",
   "metadata": {},
   "source": [
    "#### 13. What&#39;s the difference between tuples and lists?"
   ]
  },
  {
   "cell_type": "markdown",
   "id": "c8a58ff9",
   "metadata": {},
   "source": [
    "Lists and tuples both are the ordered collections.\n",
    "\n",
    "list is muutable(changable), tuples is immutable\n",
    "\n",
    "Items in list are enclosed in [], whereas itms in tuple are enclosed in ()\n",
    "\n",
    "List can be created using list(). tuples can be created using tuple()\n",
    "\n",
    "List and tuples both allow duplicates\n",
    "\n"
   ]
  },
  {
   "cell_type": "markdown",
   "id": "0397541f",
   "metadata": {},
   "source": [
    "#### 14. How do you type a tuple value that only contains the integer 42?"
   ]
  },
  {
   "cell_type": "markdown",
   "id": "30d7fed2",
   "metadata": {},
   "source": [
    "Empty tuples are constructed by an empty pair of parentheses. A tuple with one item is constructed by following a value with a comma (it is not sufficient to enclose a single value in parentheses).\n",
    "\n",
    "Single-item tuples require a trailing comma.\n",
    "\n",
    "t = (42), this is not tuple, but just an integer. we need a trailing coma.\n",
    "\n",
    "The parenthesis don't automatically make them tuples. You have to add a comma after the string to indicate to python that it should be a tuple.\n",
    "\n",
    "so t = (42,)"
   ]
  },
  {
   "cell_type": "code",
   "execution_count": 11,
   "id": "c536454f",
   "metadata": {},
   "outputs": [],
   "source": [
    "t = (42,)"
   ]
  },
  {
   "cell_type": "code",
   "execution_count": 12,
   "id": "67d98c8b",
   "metadata": {},
   "outputs": [
    {
     "data": {
      "text/plain": [
       "tuple"
      ]
     },
     "execution_count": 12,
     "metadata": {},
     "output_type": "execute_result"
    }
   ],
   "source": [
    "type(t)"
   ]
  },
  {
   "cell_type": "markdown",
   "id": "24cf81a9",
   "metadata": {},
   "source": [
    "#### 15. How do you get a list value&#39;s tuple form? How do you get a tuple value&#39;s list form?"
   ]
  },
  {
   "cell_type": "markdown",
   "id": "b705e929",
   "metadata": {},
   "source": [
    "tuple() method can be used to form a list of tuples.\n",
    "\n",
    "list() method can be used to form tuples of list."
   ]
  },
  {
   "cell_type": "code",
   "execution_count": 9,
   "id": "4ac42039",
   "metadata": {},
   "outputs": [
    {
     "data": {
      "text/plain": [
       "(1, 2)"
      ]
     },
     "execution_count": 9,
     "metadata": {},
     "output_type": "execute_result"
    }
   ],
   "source": [
    "l1 = [1,2]\n",
    "t = tuple(l1)\n",
    "t"
   ]
  },
  {
   "cell_type": "code",
   "execution_count": 10,
   "id": "f830d8ef",
   "metadata": {},
   "outputs": [
    {
     "data": {
      "text/plain": [
       "[5, 6, 7]"
      ]
     },
     "execution_count": 10,
     "metadata": {},
     "output_type": "execute_result"
    }
   ],
   "source": [
    "t1 = (5,6,7)\n",
    "l = list(t1)\n",
    "l"
   ]
  },
  {
   "cell_type": "markdown",
   "id": "a8de3801",
   "metadata": {},
   "source": [
    "#### 16. Variables that &quot;contain&quot; list values are not necessarily lists themselves. Instead, what do they contain?"
   ]
  },
  {
   "cell_type": "markdown",
   "id": "3f67d822",
   "metadata": {},
   "source": [
    "They contain references to list values"
   ]
  },
  {
   "cell_type": "markdown",
   "id": "3c70e2b7",
   "metadata": {},
   "source": [
    "#### 17. How do you distinguish between copy.copy() and copy.deepcopy()?"
   ]
  },
  {
   "cell_type": "markdown",
   "id": "d6617061",
   "metadata": {},
   "source": [
    "A copy is sometimes needed so one can change one copy without changing the other. In Python, there are two ways to create copies Deep copy and Shallow copy. We use copy module for shallow and deep copy operations.\n",
    "\n",
    "the copy() returns a shallow copy of list and deepcopy() return a deep copy of list.\n",
    "\n",
    "A shallow copy means constructing a new collection object and then populating it with references to the child objects found in the original. The copying process does not recurse and therefore won’t create copies of the child objects themselves. In case of shallow copy, a reference of object is copied in other object. It means that any changes made to a copy of object do reflect in the original object. In python, this is implemented using “copy()” function.\n",
    "\n",
    "Deep copy is a process in which the copying process occurs recursively. It means first constructing a new collection object and then recursively populating it with copies of the child objects found in the original. In case of deep copy, a copy of object is copied in other object. It means that any changes made to a copy of object do not reflect in the original object. In python, this is implemented using “deepcopy()” function."
   ]
  },
  {
   "cell_type": "code",
   "execution_count": null,
   "id": "5cd3e249",
   "metadata": {},
   "outputs": [],
   "source": []
  }
 ],
 "metadata": {
  "kernelspec": {
   "display_name": "Python 3",
   "language": "python",
   "name": "python3"
  },
  "language_info": {
   "codemirror_mode": {
    "name": "ipython",
    "version": 3
   },
   "file_extension": ".py",
   "mimetype": "text/x-python",
   "name": "python",
   "nbconvert_exporter": "python",
   "pygments_lexer": "ipython3",
   "version": "3.8.8"
  }
 },
 "nbformat": 4,
 "nbformat_minor": 5
}
