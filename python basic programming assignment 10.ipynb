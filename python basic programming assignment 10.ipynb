{
 "cells": [
  {
   "cell_type": "markdown",
   "id": "d58d7619",
   "metadata": {},
   "source": [
    "#### Q1). Write a Python program to find sum of elements in list?"
   ]
  },
  {
   "cell_type": "code",
   "execution_count": 36,
   "id": "d070a7ba",
   "metadata": {},
   "outputs": [
    {
     "name": "stdout",
     "output_type": "stream",
     "text": [
      "sum of the given numbers in the list is:  11\n"
     ]
    }
   ],
   "source": [
    "l = [5,4,2]\n",
    "sum = 0\n",
    "for i in range(len(l)):\n",
    "    sum = sum + l[i]\n",
    "print(\"sum of the given numbers in the list is: \", sum)"
   ]
  },
  {
   "cell_type": "markdown",
   "id": "9e15c077",
   "metadata": {},
   "source": [
    "#### Q2). Write a Python program to Multiply all numbers in the list?"
   ]
  },
  {
   "cell_type": "code",
   "execution_count": 33,
   "id": "046fb5ef",
   "metadata": {},
   "outputs": [
    {
     "name": "stdout",
     "output_type": "stream",
     "text": [
      "multiplication of the given numbers in the list is:  80\n"
     ]
    }
   ],
   "source": [
    "l1 = [2,5,8] \n",
    "multi = 1\n",
    "for i in range(len(l1)):\n",
    "    multi = multi * l1[i]\n",
    "    \n",
    "print(\"multiplication of the given numbers in the list is: \", multi)"
   ]
  },
  {
   "cell_type": "markdown",
   "id": "f657014f",
   "metadata": {},
   "source": [
    "#### Q)3. Write a Python program to find smallest number in a list?"
   ]
  },
  {
   "cell_type": "code",
   "execution_count": 47,
   "id": "690e33c8",
   "metadata": {},
   "outputs": [
    {
     "name": "stdout",
     "output_type": "stream",
     "text": [
      "smallest number in the given list is:  2\n"
     ]
    }
   ],
   "source": [
    "l = [10,22,56,\"python\",6,2]\n",
    "min = l[0]\n",
    "for i in l:\n",
    "    if type(i) == int:\n",
    "        if i < min:\n",
    "            min = i\n",
    "print(\"smallest number in the given list is: \", min)\n",
    "    "
   ]
  },
  {
   "cell_type": "markdown",
   "id": "99ca7009",
   "metadata": {},
   "source": [
    "#### Q4) Write a Python program to find largest number in a list?"
   ]
  },
  {
   "cell_type": "code",
   "execution_count": 46,
   "id": "22b11bd3",
   "metadata": {},
   "outputs": [
    {
     "name": "stdout",
     "output_type": "stream",
     "text": [
      "largest number in the given list is:  99\n"
     ]
    }
   ],
   "source": [
    "l = [10,22,56,\"python\",6,2,99]\n",
    "max = l[0]\n",
    "for i in l:\n",
    "    if type(i) == int:\n",
    "        if i > max:\n",
    "            max = i\n",
    "print(\"largest number in the given list is: \", max)"
   ]
  },
  {
   "cell_type": "markdown",
   "id": "5c8b57e6",
   "metadata": {},
   "source": [
    "#### 5. Write a Python program to find second largest number in a list?"
   ]
  },
  {
   "cell_type": "code",
   "execution_count": 25,
   "id": "84d45b04",
   "metadata": {},
   "outputs": [
    {
     "name": "stdout",
     "output_type": "stream",
     "text": [
      "list after sorted:  [4, 7, 17, 20, 33]\n",
      "20\n"
     ]
    }
   ],
   "source": [
    "l = [20,4,7,33,17]\n",
    "l.sort()\n",
    "print(\"list after sorted: \",l)\n",
    "print(l[-2])"
   ]
  },
  {
   "cell_type": "markdown",
   "id": "51fa66aa",
   "metadata": {},
   "source": [
    "#### 6. Write a Python program to find N largest elements from a list?"
   ]
  },
  {
   "cell_type": "code",
   "execution_count": 29,
   "id": "511640e8",
   "metadata": {},
   "outputs": [
    {
     "name": "stdout",
     "output_type": "stream",
     "text": [
      "enter the number: 4\n",
      "list after sorted:  [4, 7, 17, 20, 33]\n",
      "7\n"
     ]
    }
   ],
   "source": [
    "l = [20,4,7,33,17]\n",
    "n = int(input(\"enter the number: \"))\n",
    "l.sort()\n",
    "print(\"list after sorted: \",l)\n",
    "print(l[-n])"
   ]
  },
  {
   "cell_type": "markdown",
   "id": "6812a802",
   "metadata": {},
   "source": [
    "#### Q) 7. Write a Python program to print even numbers in a list?"
   ]
  },
  {
   "cell_type": "code",
   "execution_count": 31,
   "id": "44624f63",
   "metadata": {},
   "outputs": [
    {
     "name": "stdout",
     "output_type": "stream",
     "text": [
      "22\n",
      "50\n",
      "4\n"
     ]
    }
   ],
   "source": [
    "l = [22,3,50,4,99,\"abc\"]\n",
    "for i in l:\n",
    "    if type(i) == int:\n",
    "        \n",
    "        if (i % 2) == 0:\n",
    "            print(i)"
   ]
  },
  {
   "cell_type": "markdown",
   "id": "a0fae48f",
   "metadata": {},
   "source": [
    "#### q) 8. Write a Python program to print odd numbers in a List?"
   ]
  },
  {
   "cell_type": "code",
   "execution_count": 43,
   "id": "3674a766",
   "metadata": {},
   "outputs": [
    {
     "name": "stdout",
     "output_type": "stream",
     "text": [
      "3\n",
      "99\n"
     ]
    }
   ],
   "source": [
    "l = [22,3,\"xyz\",50,4,99]\n",
    "for i in l:\n",
    "    if type(i) == int:\n",
    "        if (i % 2) != 0:\n",
    "            print(i)"
   ]
  },
  {
   "cell_type": "markdown",
   "id": "e74c996e",
   "metadata": {},
   "source": [
    "#### 9. Write a Python program to Remove empty List from List?"
   ]
  },
  {
   "cell_type": "code",
   "execution_count": 2,
   "id": "aa9491c5",
   "metadata": {},
   "outputs": [
    {
     "name": "stdout",
     "output_type": "stream",
     "text": [
      "['div', 98, 4, 7, [1, 2, 3]]\n"
     ]
    }
   ],
   "source": [
    "for i in l1:\n",
    "    if type(i) == list:\n",
    "        if len(i) == 0:\n",
    "                l1.remove(i)\n",
    "print(l1)"
   ]
  },
  {
   "cell_type": "markdown",
   "id": "e9e83ba8",
   "metadata": {},
   "source": [
    "#### 10. Write a Python program to Cloning or Copying a list?"
   ]
  },
  {
   "cell_type": "code",
   "execution_count": 4,
   "id": "d0f0fc13",
   "metadata": {},
   "outputs": [
    {
     "name": "stdout",
     "output_type": "stream",
     "text": [
      "[[1, 2, 'abc', [5, 6, 7]]]\n"
     ]
    }
   ],
   "source": [
    "l = [1,2,\"abc\", [5,6,7]]\n",
    "l1 = []\n",
    "l1.copy()\n",
    "l1.append(l)\n",
    "print(l1)"
   ]
  },
  {
   "cell_type": "markdown",
   "id": "037a9eaa",
   "metadata": {},
   "source": [
    "#### 11. Write a Python program to Count occurrences of an element in a list?"
   ]
  },
  {
   "cell_type": "code",
   "execution_count": 22,
   "id": "37d5cd14",
   "metadata": {},
   "outputs": [
    {
     "name": "stdout",
     "output_type": "stream",
     "text": [
      "Enter number to count: 5\n",
      "count =  7\n"
     ]
    }
   ],
   "source": [
    "l =[1,5,6,5,4,5,3,3,2,5,3,5,5,5]\n",
    "n=int(input('Enter number to count: '))\n",
    "count=l.count(n)\n",
    "print('count = ', count)"
   ]
  },
  {
   "cell_type": "code",
   "execution_count": null,
   "id": "344849b5",
   "metadata": {},
   "outputs": [],
   "source": []
  }
 ],
 "metadata": {
  "kernelspec": {
   "display_name": "Python 3",
   "language": "python",
   "name": "python3"
  },
  "language_info": {
   "codemirror_mode": {
    "name": "ipython",
    "version": 3
   },
   "file_extension": ".py",
   "mimetype": "text/x-python",
   "name": "python",
   "nbconvert_exporter": "python",
   "pygments_lexer": "ipython3",
   "version": "3.8.8"
  }
 },
 "nbformat": 4,
 "nbformat_minor": 5
}
