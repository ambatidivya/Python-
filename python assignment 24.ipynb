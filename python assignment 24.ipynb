{
 "cells": [
  {
   "cell_type": "markdown",
   "id": "407e038f",
   "metadata": {},
   "source": [
    "#### 1. What is the relationship between def statements and lambda expressions ?"
   ]
  },
  {
   "cell_type": "markdown",
   "id": "d218c3db",
   "metadata": {},
   "source": [
    "def statements: def is a keyword that marks the start of the function header. A function name to uniquely identify the function. \n",
    "\n",
    "lambda: lambdas are one-line methods without a name.\n",
    "They work practically the same as any other method in Python. \n",
    "Lambdas differ from normal Python methods because they can have only one expression, can't contain any statements and their return type is a function object"
   ]
  },
  {
   "cell_type": "markdown",
   "id": "9d7efce0",
   "metadata": {},
   "source": [
    "#### 2. What is the benefit of lambda?"
   ]
  },
  {
   "cell_type": "markdown",
   "id": "81d70711",
   "metadata": {},
   "source": [
    "lambda function can take any number of arguments as its input. Similarly, it can output any number of arguments as well. The critical point is that your arguments must all pack into a single expression. Unlike regular functions, lambda expressions are declared with no name. Lambda functions are also known as anonymous functions.\n",
    "\n",
    "Lambda functions allow you to create small, single-use functions that can save time and space in your code."
   ]
  },
  {
   "cell_type": "markdown",
   "id": "07d7014a",
   "metadata": {},
   "source": [
    "#### 3. Compare and contrast map, filter, and reduce."
   ]
  },
  {
   "cell_type": "markdown",
   "id": "f273e09b",
   "metadata": {},
   "source": [
    "The map, filter and reduce functions allow you to apply a function across a number of iterables, in one fell swoop. map and filter come built-in with Python and require no importing. reduce, needs to be imported as it resides in the functools module. \n",
    "\n",
    "map:\n",
    "map applies as a transformation to an element.\n",
    "The map() function iterates through all items in the given iterable and executes the function we passed as an argument on each of them.\n",
    "\n",
    "Syntax : map(function, iterable(s))\n",
    "\n",
    "filter:\n",
    "filter accumulates only elements matching a condition.\n",
    "filter() forms a new list that contains only elements that satisfy a certain condition, i.e. the function we passed returns True\n",
    "\n",
    "Syntax : filter(function, iterable(s))\n",
    "\n",
    "reduce:\n",
    "reduce accumulates all elements to a single value, by using immutable values.\n",
    "reduce() works by calling the function we passed for the first two items in the sequence. The result returned by the function is used in another call to function alongside with the next (third in this case), element\n",
    "\n",
    "Syntax : reduce(function, sequence[, initial])"
   ]
  },
  {
   "cell_type": "code",
   "execution_count": 2,
   "id": "d01f7923",
   "metadata": {},
   "outputs": [
    {
     "name": "stdout",
     "output_type": "stream",
     "text": [
      "[True, False, False, True, False]\n"
     ]
    }
   ],
   "source": [
    "# program for map()\n",
    "\n",
    "def strt_A(s):\n",
    "    return s[0] == \"A\"\n",
    "\n",
    "fruit = [\"Apple\", \"Banana\", \"Pear\", \"Apricot\", \"Orange\"]\n",
    "map_object = map(strt_A, fruit)\n",
    "\n",
    "print(list(map_object))"
   ]
  },
  {
   "cell_type": "code",
   "execution_count": 3,
   "id": "487680f7",
   "metadata": {},
   "outputs": [
    {
     "name": "stdout",
     "output_type": "stream",
     "text": [
      "['Apple', 'Apricot']\n"
     ]
    }
   ],
   "source": [
    "# program for filter() function\n",
    "\n",
    "def strt_A(s):\n",
    "    return s[0] == \"A\"\n",
    "\n",
    "fruit = [\"Apple\", \"Banana\", \"Pear\", \"Apricot\", \"Orange\"]\n",
    "filter_object = filter(strt_A, fruit)\n",
    "\n",
    "print(list(filter_object))"
   ]
  },
  {
   "cell_type": "code",
   "execution_count": 4,
   "id": "043875a5",
   "metadata": {},
   "outputs": [
    {
     "name": "stdout",
     "output_type": "stream",
     "text": [
      "16\n"
     ]
    }
   ],
   "source": [
    "#program for reduce() function\n",
    "\n",
    "from functools import reduce\n",
    "\n",
    "def add(x, y):\n",
    "    return x + y\n",
    "\n",
    "list = [2, 4, 7, 3]\n",
    "print(reduce(add, list))"
   ]
  },
  {
   "cell_type": "markdown",
   "id": "422a7fd8",
   "metadata": {},
   "source": [
    "#### 4. What are function annotations, and how are they used?"
   ]
  },
  {
   "cell_type": "markdown",
   "id": "62f3c529",
   "metadata": {},
   "source": [
    "Function annotation is the standard way to access the metadata with the arguments and the return value of the function. These are nothing but some random and optional Python expressions that get allied to different parts of the function. They get evaluated only during the compile-time and have no significance during the run-time of the code.\n",
    "\n",
    "They do not have any significance or meaning associated with them until accessed by some third-party libraries. They are used to type check the functions by declaring the type of the parameters and the return value for the functions. The string-based annotations help us to improve the help messages.\n",
    "\n",
    "Syntax :\n",
    "    def func(a: 'int') -> 'int':\n",
    "        pass\n",
    "\n",
    "Annotations for simple parameters:\n",
    "    def func(x: 'float'=10.8, y: 'argument2'):\n",
    "       \n",
    "In the above code the argument, ‘x’ of the function func, \n",
    "        has been annotated to float data type and the argument ‘y’ \n",
    "        has a string-based annotation. The argument can also be \n",
    "        assigned to a default value using a ‘=’ symbol followed \n",
    "        by the default value. These default values are optional to the code.\n",
    "\n",
    "Annotations for return values:\n",
    "    def func(a: expression) -> 'int':\n",
    "        The annotations for the return value is written after the ‘->’ symbol."
   ]
  },
  {
   "cell_type": "markdown",
   "id": "fd8c7867",
   "metadata": {},
   "source": [
    "#### 5. What are recursive functions, and how are they used?"
   ]
  },
  {
   "cell_type": "markdown",
   "id": "05e6cbd3",
   "metadata": {},
   "source": [
    "A recursive function is a function that calls itself during its execution. Which means that the function will continue to call itself and repeat its behavior until some condition is met to return a result"
   ]
  },
  {
   "cell_type": "code",
   "execution_count": 5,
   "id": "e25062fb",
   "metadata": {},
   "outputs": [
    {
     "data": {
      "text/plain": [
       "720"
      ]
     },
     "execution_count": 5,
     "metadata": {},
     "output_type": "execute_result"
    }
   ],
   "source": [
    "def fact(x):\n",
    "    if x == 1 :\n",
    "        return 1\n",
    "    else :\n",
    "        return x * fact(x-1)  # recurtion of function\n",
    "    \n",
    "fact(6)"
   ]
  },
  {
   "cell_type": "markdown",
   "id": "5e1492bc",
   "metadata": {},
   "source": [
    "#### 6. What are some general design guidelines for coding functions?"
   ]
  },
  {
   "cell_type": "markdown",
   "id": "36f6ed64",
   "metadata": {},
   "source": [
    "1. Use 4-space indentation and no tabs\n",
    "2. Use docstrings \n",
    "3. Wrap linethat they don’t exceed 79 characters\n",
    "4. Use of regular and updated comments are valuable to both the coders and users\n",
    "5. Use of trailing commas : in case of tuple -> ('good',)\n",
    "6. Use Python’s default UTF-8 or ASCII encodings and not any fancy encodings\n",
    "7. Naming Conventions\n",
    "8.Characters that should not be used for identifiers :\n",
    "    ‘l’ (lowercase letter el), \n",
    "    ‘O’ (uppercase letter oh), \n",
    "    ‘I’ (uppercase letter eye) as single character variable names as these are similar to the numerals one and zero.\n",
    "9. Don’t use non-ASCII characters in identifiers\n",
    "10. Name your classes and functions consistently\n",
    "11. While naming of function of methods always use self for the first argument"
   ]
  },
  {
   "cell_type": "markdown",
   "id": "376ad088",
   "metadata": {},
   "source": [
    "#### 7. Name three or more ways that functions can communicate results to a caller."
   ]
  },
  {
   "cell_type": "markdown",
   "id": "96a74f98",
   "metadata": {},
   "source": [
    "1. Function can return single value and can return multiple values as tuple\n",
    "2. It can return list,dictionary\n",
    "3. It can return function object and can return class object"
   ]
  },
  {
   "cell_type": "code",
   "execution_count": null,
   "id": "908f2228",
   "metadata": {},
   "outputs": [],
   "source": []
  }
 ],
 "metadata": {
  "kernelspec": {
   "display_name": "Python 3 (ipykernel)",
   "language": "python",
   "name": "python3"
  },
  "language_info": {
   "codemirror_mode": {
    "name": "ipython",
    "version": 3
   },
   "file_extension": ".py",
   "mimetype": "text/x-python",
   "name": "python",
   "nbconvert_exporter": "python",
   "pygments_lexer": "ipython3",
   "version": "3.9.7"
  }
 },
 "nbformat": 4,
 "nbformat_minor": 5
}
