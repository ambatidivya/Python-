{
 "cells": [
  {
   "cell_type": "markdown",
   "id": "38f33999",
   "metadata": {},
   "source": [
    "#### 1. What is the result of the code, and explain?\n",
    "\n",
    "\n",
    "&gt;&gt;&gt; X = &#39;iNeuron&#39;\n",
    "\n",
    "&gt;&gt;&gt; def func():\n",
    "\n",
    "print(X)\n",
    "\n",
    "&gt;&gt;&gt; func()"
   ]
  },
  {
   "cell_type": "code",
   "execution_count": 1,
   "id": "91631caa",
   "metadata": {},
   "outputs": [],
   "source": [
    "X = \"iNeuron\"\n",
    "def func():\n",
    "    print(X)\n",
    "    "
   ]
  },
  {
   "cell_type": "code",
   "execution_count": 2,
   "id": "1546f99c",
   "metadata": {},
   "outputs": [
    {
     "name": "stdout",
     "output_type": "stream",
     "text": [
      "iNeuron\n"
     ]
    }
   ],
   "source": [
    "func()"
   ]
  },
  {
   "cell_type": "markdown",
   "id": "7a9794d5",
   "metadata": {},
   "source": [
    "Here, we are defining the function and and when it is called it will execute the statement written inside the function i.e printing the string. so output is iNeuron"
   ]
  },
  {
   "cell_type": "markdown",
   "id": "67ab6c69",
   "metadata": {},
   "source": [
    "#### 2. What is the result of the code, and explain?\n",
    "\n",
    "&gt;&gt;&gt; X = &#39;iNeuron&#39;\n",
    "\n",
    "&gt;&gt;&gt; def func():\n",
    "\n",
    "X = &#39;NI!&#39;\n",
    "\n",
    "&gt;&gt;&gt; func()\n",
    "\n",
    "&gt;&gt;&gt; print(X)"
   ]
  },
  {
   "cell_type": "code",
   "execution_count": 3,
   "id": "6050e327",
   "metadata": {},
   "outputs": [],
   "source": [
    "X = \"iNeuron\"\n",
    "def func():\n",
    "    X = \"NI!\""
   ]
  },
  {
   "cell_type": "code",
   "execution_count": 4,
   "id": "77fb284b",
   "metadata": {},
   "outputs": [],
   "source": [
    "func()"
   ]
  },
  {
   "cell_type": "code",
   "execution_count": 5,
   "id": "6378d437",
   "metadata": {},
   "outputs": [
    {
     "name": "stdout",
     "output_type": "stream",
     "text": [
      "iNeuron\n"
     ]
    }
   ],
   "source": [
    "print(X)"
   ]
  },
  {
   "cell_type": "markdown",
   "id": "1c546b73",
   "metadata": {},
   "source": [
    "Here, we are defining the function and and when it is called it will execute the statement written inside the function. But inside the func() there is no print() or return statement. we are just assigning X = \"NI!\". As there is no return, func() doesnt print anything. But when we print X outside the function, it prints the original vlaue.  so output is iNeuron"
   ]
  },
  {
   "cell_type": "markdown",
   "id": "792fd2af",
   "metadata": {},
   "source": [
    "#### 3. What does this code print, and why?\n",
    "\n",
    "&gt;&gt;&gt; X = &#39;iNeuron&#39;\n",
    "&gt;&gt;&gt; def func():\n",
    "X = &#39;NI&#39;\n",
    "print(X)\n",
    "\n",
    "&gt;&gt;&gt; func()\n",
    "&gt;&gt;&gt; print(X)"
   ]
  },
  {
   "cell_type": "code",
   "execution_count": 6,
   "id": "c61c8163",
   "metadata": {},
   "outputs": [],
   "source": [
    "X = \"iNeuron\"\n",
    "def func():\n",
    "    X = \"NI\"\n",
    "    print(X)"
   ]
  },
  {
   "cell_type": "code",
   "execution_count": 7,
   "id": "3b86a780",
   "metadata": {},
   "outputs": [
    {
     "name": "stdout",
     "output_type": "stream",
     "text": [
      "NI\n"
     ]
    }
   ],
   "source": [
    "func()"
   ]
  },
  {
   "cell_type": "code",
   "execution_count": 8,
   "id": "cee37a38",
   "metadata": {},
   "outputs": [
    {
     "name": "stdout",
     "output_type": "stream",
     "text": [
      "iNeuron\n"
     ]
    }
   ],
   "source": [
    "print(X)"
   ]
  },
  {
   "cell_type": "markdown",
   "id": "9b8cbed3",
   "metadata": {},
   "source": [
    "Inside the func(), we are assiging X =\"NI\", and when the function is called, the X value gets replaced with \"NI\" rather than printing the \"iNeuron\". But when we print x outside the function, it shows as \"iNeuron\" "
   ]
  },
  {
   "cell_type": "markdown",
   "id": "7c60be2f",
   "metadata": {},
   "source": [
    "#### 4. What output does this code produce? Why?\n",
    "\n",
    "&gt;&gt;&gt; X = &#39;iNeuron&#39;\n",
    "\n",
    "&gt;&gt;&gt; def func():\n",
    "\n",
    "global X\n",
    "\n",
    "X = &#39;NI&#39;\n",
    "\n",
    "&gt;&gt;&gt; func()\n",
    "\n",
    "&gt;&gt;&gt; print(X)\n"
   ]
  },
  {
   "cell_type": "code",
   "execution_count": 9,
   "id": "40e86a95",
   "metadata": {},
   "outputs": [],
   "source": [
    "X =\"iNeuron\"\n",
    "def func():\n",
    "    global X\n",
    "    X = \"NI\""
   ]
  },
  {
   "cell_type": "code",
   "execution_count": 10,
   "id": "f4547ecd",
   "metadata": {},
   "outputs": [],
   "source": [
    "func()"
   ]
  },
  {
   "cell_type": "code",
   "execution_count": 11,
   "id": "ecbb750c",
   "metadata": {},
   "outputs": [
    {
     "name": "stdout",
     "output_type": "stream",
     "text": [
      "NI\n"
     ]
    }
   ],
   "source": [
    "print(X)"
   ]
  },
  {
   "cell_type": "markdown",
   "id": "0e599870",
   "metadata": {},
   "source": [
    "Here in func() we have declared X as global variable hence it's previous value i.e 'iNeuron' is overrided and when print(x) is executed it prints latest updated value i.e 'NI'"
   ]
  },
  {
   "cell_type": "markdown",
   "id": "c46602ae",
   "metadata": {},
   "source": [
    "#### 5. What about this code—what’s the output, and why?\n",
    "\n",
    "&gt;&gt;&gt; X = &#39;iNeuron&#39;\n",
    "\n",
    "&gt;&gt;&gt; def func():\n",
    "\n",
    "X = &#39;NI&#39;\n",
    "\n",
    "def nested():\n",
    "\n",
    "print(X)\n",
    "\n",
    "nested()\n",
    "\n",
    "&gt;&gt;&gt; func()\n",
    "\n",
    "&gt;&gt;&gt; X"
   ]
  },
  {
   "cell_type": "code",
   "execution_count": 16,
   "id": "a0c171af",
   "metadata": {},
   "outputs": [],
   "source": [
    "X =\"iNeuron\"\n",
    "def func():\n",
    "    X = \"NI\"\n",
    "    def nested():\n",
    "        print(X)\n",
    "    nested()"
   ]
  },
  {
   "cell_type": "code",
   "execution_count": 17,
   "id": "70d87f01",
   "metadata": {},
   "outputs": [
    {
     "name": "stdout",
     "output_type": "stream",
     "text": [
      "NI\n"
     ]
    }
   ],
   "source": [
    "func()"
   ]
  },
  {
   "cell_type": "code",
   "execution_count": 15,
   "id": "80b800e7",
   "metadata": {},
   "outputs": [
    {
     "data": {
      "text/plain": [
       "'iNeuron'"
      ]
     },
     "execution_count": 15,
     "metadata": {},
     "output_type": "execute_result"
    }
   ],
   "source": [
    "X"
   ]
  },
  {
   "cell_type": "markdown",
   "id": "70d5c4ed",
   "metadata": {},
   "source": [
    "Here when func() is called it executes X = 'NI' and when nested() is called it prints X = \"NI\". Here X = \"NI\" acts as Global variable to nested() function so it prints \"NI\" when func() is called. "
   ]
  },
  {
   "cell_type": "markdown",
   "id": "cf0f1752",
   "metadata": {},
   "source": [
    "#### 6. How about this code: what is its output in Python 3, and explain?\n",
    "\n",
    "&gt;&gt;&gt; def func():\n",
    "\n",
    "X = &#39;NI&#39;\n",
    "\n",
    "def nested():\n",
    "\n",
    "nonlocal X\n",
    "\n",
    "X = &#39;Spam&#39;\n",
    "\n",
    "nested()\n",
    "\n",
    "print(X)\n",
    "\n",
    "&gt;&gt;&gt; func()"
   ]
  },
  {
   "cell_type": "code",
   "execution_count": 2,
   "id": "be4fd5b5",
   "metadata": {},
   "outputs": [
    {
     "ename": "SyntaxError",
     "evalue": "no binding for nonlocal 'X' found (Temp/ipykernel_28608/814497702.py, line 4)",
     "output_type": "error",
     "traceback": [
      "\u001b[1;36m  File \u001b[1;32m\"C:\\Users\\divya\\AppData\\Local\\Temp/ipykernel_28608/814497702.py\"\u001b[1;36m, line \u001b[1;32m4\u001b[0m\n\u001b[1;33m    nonlocal X\u001b[0m\n\u001b[1;37m    ^\u001b[0m\n\u001b[1;31mSyntaxError\u001b[0m\u001b[1;31m:\u001b[0m no binding for nonlocal 'X' found\n"
     ]
    }
   ],
   "source": [
    "def func():\n",
    "    X = \"NI\"\n",
    "def nested():\n",
    "    nonlocal X\n",
    "    X = \"Spam\"\n",
    "\n",
    "nested()\n",
    "print(X)"
   ]
  },
  {
   "cell_type": "code",
   "execution_count": 3,
   "id": "7ad60174",
   "metadata": {},
   "outputs": [],
   "source": [
    "func()"
   ]
  },
  {
   "cell_type": "markdown",
   "id": "a0a4da2c",
   "metadata": {},
   "source": [
    "A variable if we want to access outside the block as well as within the block, it should be declared as global."
   ]
  },
  {
   "cell_type": "code",
   "execution_count": null,
   "id": "787965f0",
   "metadata": {},
   "outputs": [],
   "source": []
  }
 ],
 "metadata": {
  "kernelspec": {
   "display_name": "Python 3 (ipykernel)",
   "language": "python",
   "name": "python3"
  },
  "language_info": {
   "codemirror_mode": {
    "name": "ipython",
    "version": 3
   },
   "file_extension": ".py",
   "mimetype": "text/x-python",
   "name": "python",
   "nbconvert_exporter": "python",
   "pygments_lexer": "ipython3",
   "version": "3.9.7"
  }
 },
 "nbformat": 4,
 "nbformat_minor": 5
}
