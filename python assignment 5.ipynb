{
 "cells": [
  {
   "cell_type": "markdown",
   "id": "95329141",
   "metadata": {},
   "source": [
    "#### 1. What does an empty dictionary's code look like?"
   ]
  },
  {
   "cell_type": "markdown",
   "id": "16769119",
   "metadata": {},
   "source": [
    "d = {}, it is empty dictionary."
   ]
  },
  {
   "cell_type": "markdown",
   "id": "55ee8918",
   "metadata": {},
   "source": [
    "#### 2. What is the value of a dictionary value with the key &#39;foo&#39; and the value 42?"
   ]
  },
  {
   "cell_type": "markdown",
   "id": "42bf3f4f",
   "metadata": {},
   "source": [
    "d = {'foo' : 42}\n",
    "The value of the key 'foo' is 42. "
   ]
  },
  {
   "cell_type": "markdown",
   "id": "27c9dcc6",
   "metadata": {},
   "source": [
    "#### 3. What is the most significant distinction between a dictionary and a list?"
   ]
  },
  {
   "cell_type": "markdown",
   "id": "2fdc23df",
   "metadata": {},
   "source": [
    "Lists is a collection of index values pairs, dictionary is stored in key value pairs. \n",
    "\n",
    "List is collection of ordered data values, Dictionary is an unordered collection of data values,\n",
    "\n",
    "lists and dictionary both are mutable"
   ]
  },
  {
   "cell_type": "markdown",
   "id": "3d331765",
   "metadata": {},
   "source": [
    "#### 4. What happens if you try to access spam[&#39;foo&#39;] if spam is {&#39;bar&#39;: 100}?"
   ]
  },
  {
   "cell_type": "markdown",
   "id": "516fc4cf",
   "metadata": {},
   "source": [
    "spam = {'bar' : 100}\n",
    "\n",
    "If we try to acess spam['foo'], we get an error. As the key 'foo' is not present in the spam."
   ]
  },
  {
   "cell_type": "markdown",
   "id": "4cda7fcf",
   "metadata": {},
   "source": [
    "#### 5. If a dictionary is stored in spam, what is the difference between the expressions 'cat' in spam and 'cat' in spam.keys()?"
   ]
  },
  {
   "cell_type": "raw",
   "id": "2dfc97d6",
   "metadata": {},
   "source": [
    "ex: spam = {'cat' : 100}\n",
    "\n",
    "If spam['cat'], then the output we get is 100. since the cat is key and 100 is value.\n",
    "\n",
    "If spam.keys(), then output we get is list of all keys in given dict. i.e, ['cat']\n",
    "\n",
    "AS keys() takes no arguments, we cant pass 'cat' as spam.keys('cat'). \n"
   ]
  },
  {
   "cell_type": "markdown",
   "id": "3b20c1bc",
   "metadata": {},
   "source": [
    "#### 6. If a dictionary is stored in spam, what is the difference between the expressions 'cat' in spam and 'cat' in spam.values()?"
   ]
  },
  {
   "cell_type": "code",
   "execution_count": null,
   "id": "388e0332",
   "metadata": {},
   "outputs": [],
   "source": [
    "ex: spam = {'cat' : 100}\n",
    "\n",
    "If spam['cat'], then the output we get is 100. since the cat is key and 100 is value.\n",
    "\n",
    "If spam.values(), then output we get is list of all values in given dict. i.e [100]\n",
    "\n",
    "AS values() takes no arguments, we cant pass 'cat' as spam.keys('cat'). \n"
   ]
  },
  {
   "cell_type": "markdown",
   "id": "b5aaf6bb",
   "metadata": {},
   "source": [
    "#### 7. What is a shortcut for the following code?\n",
    "     if 'color' not in spam:\n",
    "     spam['color'] = 'black'"
   ]
  },
  {
   "cell_type": "markdown",
   "id": "12afa4ba",
   "metadata": {},
   "source": [
    "Ans: \n",
    "\n",
    "let us assume spam = {}\n",
    "\n",
    "the above twok lines of code is replaced with below one line of code\n",
    "\n",
    "spam.setdefault('color', 'black')\n",
    "\n",
    ".setdefault() will set a value in a dictionary for a certain key only if that key does not already have a value. In this method, the first argument passed is the key and the second argument is the value to set at that key if the key does not exist. If the key does exist, the setdefault() method returns the key’s value.\n",
    "\n",
    "so output will be 'black' as key color doesnt exist and the value will be return to key."
   ]
  },
  {
   "cell_type": "markdown",
   "id": "2c2b233f",
   "metadata": {},
   "source": [
    "#### 8. How do you 'pretty print' dictionary values using which module and function?"
   ]
  },
  {
   "cell_type": "markdown",
   "id": "4f1c95eb",
   "metadata": {},
   "source": [
    "Pretty printing means to present something in a more readable format or style.\n",
    "\n",
    "we can use pprint.pprint(), json.dumps(), yaml.dump() to pretty print a dictionary.\n",
    "\n",
    "pprint is a Python module that provides the capability to pretty print the data types to be more readable. Within the pprint module there is a function with the same name pprint(), which is the function used to pretty-print the given string or object.\n",
    "It break each dictionary element in the array right after the commas while also sorting the dictionary’s values by key.\n",
    "\n",
    "Within json module, there is a function called dumps(), which converts a Python object into a JSON string.\n",
    "\n",
    "Another way to pretty print a dictionary is by using the dump() function of the yaml module. It serves the same purpose as the json.dumps() function but in YAML format instead of JSON."
   ]
  }
 ],
 "metadata": {
  "kernelspec": {
   "display_name": "Python 3",
   "language": "python",
   "name": "python3"
  },
  "language_info": {
   "codemirror_mode": {
    "name": "ipython",
    "version": 3
   },
   "file_extension": ".py",
   "mimetype": "text/x-python",
   "name": "python",
   "nbconvert_exporter": "python",
   "pygments_lexer": "ipython3",
   "version": "3.8.8"
  }
 },
 "nbformat": 4,
 "nbformat_minor": 5
}
